{
 "cells": [
  {
   "cell_type": "code",
   "execution_count": 2,
   "metadata": {
    "colab": {
     "base_uri": "https://localhost:8080/"
    },
    "executionInfo": {
     "elapsed": 10857,
     "status": "ok",
     "timestamp": 1707330439423,
     "user": {
      "displayName": "Narasimharao",
      "userId": "17097520752763909307"
     },
     "user_tz": -330
    },
    "id": "8jv_Xl6K0Yn6",
    "outputId": "d7cedaf8-51f6-4086-c591-e9046d4fc303"
   },
   "outputs": [
    {
     "name": "stdout",
     "output_type": "stream",
     "text": [
      "Collecting autocorrect\n",
      "  Downloading autocorrect-2.6.1.tar.gz (622 kB)\n",
      "\u001b[?25l     \u001b[90m━━━━━━━━━━━━━━━━━━━━━━━━━━━━━━━━━━━━━━━━\u001b[0m \u001b[32m0.0/622.8 kB\u001b[0m \u001b[31m?\u001b[0m eta \u001b[36m-:--:--\u001b[0m\r",
      "\u001b[2K     \u001b[91m━━━━━\u001b[0m\u001b[91m╸\u001b[0m\u001b[90m━━━━━━━━━━━━━━━━━━━━━━━━━━━━━━━━━━\u001b[0m \u001b[32m92.2/622.8 kB\u001b[0m \u001b[31m2.5 MB/s\u001b[0m eta \u001b[36m0:00:01\u001b[0m\r",
      "\u001b[2K     \u001b[90m━━━━━━━━━━━━━━━━━━━━━━━━━━━━━━━━━━━━━━━━\u001b[0m \u001b[32m622.8/622.8 kB\u001b[0m \u001b[31m9.5 MB/s\u001b[0m eta \u001b[36m0:00:00\u001b[0m\n",
      "\u001b[?25h  Preparing metadata (setup.py) ... \u001b[?25l\u001b[?25hdone\n",
      "Building wheels for collected packages: autocorrect\n",
      "  Building wheel for autocorrect (setup.py) ... \u001b[?25l\u001b[?25hdone\n",
      "  Created wheel for autocorrect: filename=autocorrect-2.6.1-py3-none-any.whl size=622364 sha256=814e7ff48672a795fa5a3a8fc69d927f79a4a2e5a927809b7093682540044c73\n",
      "  Stored in directory: /root/.cache/pip/wheels/b5/7b/6d/b76b29ce11ff8e2521c8c7dd0e5bfee4fb1789d76193124343\n",
      "Successfully built autocorrect\n",
      "Installing collected packages: autocorrect\n",
      "Successfully installed autocorrect-2.6.1\n"
     ]
    }
   ],
   "source": [
    "pip install autocorrect"
   ]
  },
  {
   "cell_type": "code",
   "execution_count": 3,
   "metadata": {
    "colab": {
     "base_uri": "https://localhost:8080/"
    },
    "executionInfo": {
     "elapsed": 10023,
     "status": "ok",
     "timestamp": 1707330449433,
     "user": {
      "displayName": "Narasimharao",
      "userId": "17097520752763909307"
     },
     "user_tz": -330
    },
    "id": "3Osyx81H0V_J",
    "outputId": "a30df7b5-93d0-4060-c4a5-0d71bb03e231"
   },
   "outputs": [
    {
     "name": "stdout",
     "output_type": "stream",
     "text": [
      "Collecting emoji\n",
      "  Downloading emoji-2.10.1-py2.py3-none-any.whl (421 kB)\n",
      "\u001b[?25l     \u001b[90m━━━━━━━━━━━━━━━━━━━━━━━━━━━━━━━━━━━━━━━━\u001b[0m \u001b[32m0.0/421.5 kB\u001b[0m \u001b[31m?\u001b[0m eta \u001b[36m-:--:--\u001b[0m\r",
      "\u001b[2K     \u001b[91m━━━━━━━━━━\u001b[0m\u001b[91m╸\u001b[0m\u001b[90m━━━━━━━━━━━━━━━━━━━━━━━━━━━━━\u001b[0m \u001b[32m112.6/421.5 kB\u001b[0m \u001b[31m3.2 MB/s\u001b[0m eta \u001b[36m0:00:01\u001b[0m\r",
      "\u001b[2K     \u001b[90m━━━━━━━━━━━━━━━━━━━━━━━━━━━━━━━━━━━━━━━━\u001b[0m \u001b[32m421.5/421.5 kB\u001b[0m \u001b[31m7.3 MB/s\u001b[0m eta \u001b[36m0:00:00\u001b[0m\n",
      "\u001b[?25hInstalling collected packages: emoji\n",
      "Successfully installed emoji-2.10.1\n"
     ]
    }
   ],
   "source": [
    "pip install emoji"
   ]
  },
  {
   "cell_type": "code",
   "execution_count": 17,
   "metadata": {
    "executionInfo": {
     "elapsed": 702,
     "status": "ok",
     "timestamp": 1707331111155,
     "user": {
      "displayName": "Narasimharao",
      "userId": "17097520752763909307"
     },
     "user_tz": -330
    },
    "id": "qoodoz_N0V_I"
   },
   "outputs": [],
   "source": [
    "import pandas as pd\n",
    "import seaborn as sns\n",
    "import matplotlib.pyplot as plt\n",
    "\n",
    "import numpy as np\n",
    "import re\n",
    "from textblob import TextBlob as tb\n",
    "from autocorrect import Speller as sp\n",
    "import emoji\n",
    "import nltk\n",
    "from nltk.tokenize import word_tokenize as wt,sent_tokenize as st\n",
    "from nltk.corpus import stopwords\n",
    "from nltk import PorterStemmer,LancasterStemmer,SnowballStemmer\n",
    "from nltk import WordNetLemmatizer\n",
    "from sklearn.feature_extraction.text import CountVectorizer\n",
    "\n",
    "from sklearn.model_selection import train_test_split\n",
    "\n",
    "from sklearn.preprocessing import FunctionTransformer,PowerTransformer\n",
    "\n",
    "from sklearn.pipeline import Pipeline,make_pipeline\n",
    "\n",
    "import pickle\n",
    "\n",
    "from sklearn.naive_bayes import MultinomialNB"
   ]
  },
  {
   "cell_type": "code",
   "execution_count": 5,
   "metadata": {
    "colab": {
     "base_uri": "https://localhost:8080/"
    },
    "executionInfo": {
     "elapsed": 1122,
     "status": "ok",
     "timestamp": 1707330462579,
     "user": {
      "displayName": "Narasimharao",
      "userId": "17097520752763909307"
     },
     "user_tz": -330
    },
    "id": "OYuV26IL00pX",
    "outputId": "8e3e0d04-d3bc-4cb4-b756-71e06a208799"
   },
   "outputs": [
    {
     "name": "stderr",
     "output_type": "stream",
     "text": [
      "[nltk_data] Downloading package punkt to /root/nltk_data...\n",
      "[nltk_data]   Unzipping tokenizers/punkt.zip.\n",
      "[nltk_data] Downloading package stopwords to /root/nltk_data...\n",
      "[nltk_data]   Unzipping corpora/stopwords.zip.\n",
      "[nltk_data] Downloading package wordnet to /root/nltk_data...\n"
     ]
    },
    {
     "data": {
      "text/plain": [
       "True"
      ]
     },
     "execution_count": 5,
     "metadata": {},
     "output_type": "execute_result"
    }
   ],
   "source": [
    "nltk.download('punkt')\n",
    "nltk.download('stopwords')\n",
    "nltk.download('wordnet')"
   ]
  },
  {
   "cell_type": "markdown",
   "metadata": {
    "id": "Y68FyYMo036K"
   },
   "source": [
    "### 1.Problem Statement\n",
    "Create a model for predicting wheather text have spam or ham"
   ]
  },
  {
   "cell_type": "markdown",
   "metadata": {
    "id": "UzS4NfVA1OB_"
   },
   "source": [
    "### 2.Data Collection"
   ]
  },
  {
   "cell_type": "code",
   "execution_count": 7,
   "metadata": {
    "colab": {
     "base_uri": "https://localhost:8080/",
     "height": 206
    },
    "executionInfo": {
     "elapsed": 469,
     "status": "ok",
     "timestamp": 1707330644827,
     "user": {
      "displayName": "Narasimharao",
      "userId": "17097520752763909307"
     },
     "user_tz": -330
    },
    "id": "KC_Px0Cd0V_K",
    "outputId": "ec802b75-61f0-454d-cfc2-ade23ac876bb"
   },
   "outputs": [
    {
     "data": {
      "text/html": [
       "\n",
       "  <div id=\"df-1c9280bf-ec29-4870-b1c5-8d374217abc1\" class=\"colab-df-container\">\n",
       "    <div>\n",
       "<style scoped>\n",
       "    .dataframe tbody tr th:only-of-type {\n",
       "        vertical-align: middle;\n",
       "    }\n",
       "\n",
       "    .dataframe tbody tr th {\n",
       "        vertical-align: top;\n",
       "    }\n",
       "\n",
       "    .dataframe thead th {\n",
       "        text-align: right;\n",
       "    }\n",
       "</style>\n",
       "<table border=\"1\" class=\"dataframe\">\n",
       "  <thead>\n",
       "    <tr style=\"text-align: right;\">\n",
       "      <th></th>\n",
       "      <th>v1</th>\n",
       "      <th>v2</th>\n",
       "    </tr>\n",
       "  </thead>\n",
       "  <tbody>\n",
       "    <tr>\n",
       "      <th>0</th>\n",
       "      <td>ham</td>\n",
       "      <td>Go until jurong point, crazy.. Available only ...</td>\n",
       "    </tr>\n",
       "    <tr>\n",
       "      <th>1</th>\n",
       "      <td>ham</td>\n",
       "      <td>Ok lar... Joking wif u oni...</td>\n",
       "    </tr>\n",
       "    <tr>\n",
       "      <th>2</th>\n",
       "      <td>spam</td>\n",
       "      <td>Free entry in 2 a wkly comp to win FA Cup fina...</td>\n",
       "    </tr>\n",
       "    <tr>\n",
       "      <th>3</th>\n",
       "      <td>ham</td>\n",
       "      <td>U dun say so early hor... U c already then say...</td>\n",
       "    </tr>\n",
       "    <tr>\n",
       "      <th>4</th>\n",
       "      <td>ham</td>\n",
       "      <td>Nah I don't think he goes to usf, he lives aro...</td>\n",
       "    </tr>\n",
       "  </tbody>\n",
       "</table>\n",
       "</div>\n",
       "    <div class=\"colab-df-buttons\">\n",
       "\n",
       "  <div class=\"colab-df-container\">\n",
       "    <button class=\"colab-df-convert\" onclick=\"convertToInteractive('df-1c9280bf-ec29-4870-b1c5-8d374217abc1')\"\n",
       "            title=\"Convert this dataframe to an interactive table.\"\n",
       "            style=\"display:none;\">\n",
       "\n",
       "  <svg xmlns=\"http://www.w3.org/2000/svg\" height=\"24px\" viewBox=\"0 -960 960 960\">\n",
       "    <path d=\"M120-120v-720h720v720H120Zm60-500h600v-160H180v160Zm220 220h160v-160H400v160Zm0 220h160v-160H400v160ZM180-400h160v-160H180v160Zm440 0h160v-160H620v160ZM180-180h160v-160H180v160Zm440 0h160v-160H620v160Z\"/>\n",
       "  </svg>\n",
       "    </button>\n",
       "\n",
       "  <style>\n",
       "    .colab-df-container {\n",
       "      display:flex;\n",
       "      gap: 12px;\n",
       "    }\n",
       "\n",
       "    .colab-df-convert {\n",
       "      background-color: #E8F0FE;\n",
       "      border: none;\n",
       "      border-radius: 50%;\n",
       "      cursor: pointer;\n",
       "      display: none;\n",
       "      fill: #1967D2;\n",
       "      height: 32px;\n",
       "      padding: 0 0 0 0;\n",
       "      width: 32px;\n",
       "    }\n",
       "\n",
       "    .colab-df-convert:hover {\n",
       "      background-color: #E2EBFA;\n",
       "      box-shadow: 0px 1px 2px rgba(60, 64, 67, 0.3), 0px 1px 3px 1px rgba(60, 64, 67, 0.15);\n",
       "      fill: #174EA6;\n",
       "    }\n",
       "\n",
       "    .colab-df-buttons div {\n",
       "      margin-bottom: 4px;\n",
       "    }\n",
       "\n",
       "    [theme=dark] .colab-df-convert {\n",
       "      background-color: #3B4455;\n",
       "      fill: #D2E3FC;\n",
       "    }\n",
       "\n",
       "    [theme=dark] .colab-df-convert:hover {\n",
       "      background-color: #434B5C;\n",
       "      box-shadow: 0px 1px 3px 1px rgba(0, 0, 0, 0.15);\n",
       "      filter: drop-shadow(0px 1px 2px rgba(0, 0, 0, 0.3));\n",
       "      fill: #FFFFFF;\n",
       "    }\n",
       "  </style>\n",
       "\n",
       "    <script>\n",
       "      const buttonEl =\n",
       "        document.querySelector('#df-1c9280bf-ec29-4870-b1c5-8d374217abc1 button.colab-df-convert');\n",
       "      buttonEl.style.display =\n",
       "        google.colab.kernel.accessAllowed ? 'block' : 'none';\n",
       "\n",
       "      async function convertToInteractive(key) {\n",
       "        const element = document.querySelector('#df-1c9280bf-ec29-4870-b1c5-8d374217abc1');\n",
       "        const dataTable =\n",
       "          await google.colab.kernel.invokeFunction('convertToInteractive',\n",
       "                                                    [key], {});\n",
       "        if (!dataTable) return;\n",
       "\n",
       "        const docLinkHtml = 'Like what you see? Visit the ' +\n",
       "          '<a target=\"_blank\" href=https://colab.research.google.com/notebooks/data_table.ipynb>data table notebook</a>'\n",
       "          + ' to learn more about interactive tables.';\n",
       "        element.innerHTML = '';\n",
       "        dataTable['output_type'] = 'display_data';\n",
       "        await google.colab.output.renderOutput(dataTable, element);\n",
       "        const docLink = document.createElement('div');\n",
       "        docLink.innerHTML = docLinkHtml;\n",
       "        element.appendChild(docLink);\n",
       "      }\n",
       "    </script>\n",
       "  </div>\n",
       "\n",
       "\n",
       "<div id=\"df-9112d709-e6b1-40b4-9058-910ba0efe3c3\">\n",
       "  <button class=\"colab-df-quickchart\" onclick=\"quickchart('df-9112d709-e6b1-40b4-9058-910ba0efe3c3')\"\n",
       "            title=\"Suggest charts\"\n",
       "            style=\"display:none;\">\n",
       "\n",
       "<svg xmlns=\"http://www.w3.org/2000/svg\" height=\"24px\"viewBox=\"0 0 24 24\"\n",
       "     width=\"24px\">\n",
       "    <g>\n",
       "        <path d=\"M19 3H5c-1.1 0-2 .9-2 2v14c0 1.1.9 2 2 2h14c1.1 0 2-.9 2-2V5c0-1.1-.9-2-2-2zM9 17H7v-7h2v7zm4 0h-2V7h2v10zm4 0h-2v-4h2v4z\"/>\n",
       "    </g>\n",
       "</svg>\n",
       "  </button>\n",
       "\n",
       "<style>\n",
       "  .colab-df-quickchart {\n",
       "      --bg-color: #E8F0FE;\n",
       "      --fill-color: #1967D2;\n",
       "      --hover-bg-color: #E2EBFA;\n",
       "      --hover-fill-color: #174EA6;\n",
       "      --disabled-fill-color: #AAA;\n",
       "      --disabled-bg-color: #DDD;\n",
       "  }\n",
       "\n",
       "  [theme=dark] .colab-df-quickchart {\n",
       "      --bg-color: #3B4455;\n",
       "      --fill-color: #D2E3FC;\n",
       "      --hover-bg-color: #434B5C;\n",
       "      --hover-fill-color: #FFFFFF;\n",
       "      --disabled-bg-color: #3B4455;\n",
       "      --disabled-fill-color: #666;\n",
       "  }\n",
       "\n",
       "  .colab-df-quickchart {\n",
       "    background-color: var(--bg-color);\n",
       "    border: none;\n",
       "    border-radius: 50%;\n",
       "    cursor: pointer;\n",
       "    display: none;\n",
       "    fill: var(--fill-color);\n",
       "    height: 32px;\n",
       "    padding: 0;\n",
       "    width: 32px;\n",
       "  }\n",
       "\n",
       "  .colab-df-quickchart:hover {\n",
       "    background-color: var(--hover-bg-color);\n",
       "    box-shadow: 0 1px 2px rgba(60, 64, 67, 0.3), 0 1px 3px 1px rgba(60, 64, 67, 0.15);\n",
       "    fill: var(--button-hover-fill-color);\n",
       "  }\n",
       "\n",
       "  .colab-df-quickchart-complete:disabled,\n",
       "  .colab-df-quickchart-complete:disabled:hover {\n",
       "    background-color: var(--disabled-bg-color);\n",
       "    fill: var(--disabled-fill-color);\n",
       "    box-shadow: none;\n",
       "  }\n",
       "\n",
       "  .colab-df-spinner {\n",
       "    border: 2px solid var(--fill-color);\n",
       "    border-color: transparent;\n",
       "    border-bottom-color: var(--fill-color);\n",
       "    animation:\n",
       "      spin 1s steps(1) infinite;\n",
       "  }\n",
       "\n",
       "  @keyframes spin {\n",
       "    0% {\n",
       "      border-color: transparent;\n",
       "      border-bottom-color: var(--fill-color);\n",
       "      border-left-color: var(--fill-color);\n",
       "    }\n",
       "    20% {\n",
       "      border-color: transparent;\n",
       "      border-left-color: var(--fill-color);\n",
       "      border-top-color: var(--fill-color);\n",
       "    }\n",
       "    30% {\n",
       "      border-color: transparent;\n",
       "      border-left-color: var(--fill-color);\n",
       "      border-top-color: var(--fill-color);\n",
       "      border-right-color: var(--fill-color);\n",
       "    }\n",
       "    40% {\n",
       "      border-color: transparent;\n",
       "      border-right-color: var(--fill-color);\n",
       "      border-top-color: var(--fill-color);\n",
       "    }\n",
       "    60% {\n",
       "      border-color: transparent;\n",
       "      border-right-color: var(--fill-color);\n",
       "    }\n",
       "    80% {\n",
       "      border-color: transparent;\n",
       "      border-right-color: var(--fill-color);\n",
       "      border-bottom-color: var(--fill-color);\n",
       "    }\n",
       "    90% {\n",
       "      border-color: transparent;\n",
       "      border-bottom-color: var(--fill-color);\n",
       "    }\n",
       "  }\n",
       "</style>\n",
       "\n",
       "  <script>\n",
       "    async function quickchart(key) {\n",
       "      const quickchartButtonEl =\n",
       "        document.querySelector('#' + key + ' button');\n",
       "      quickchartButtonEl.disabled = true;  // To prevent multiple clicks.\n",
       "      quickchartButtonEl.classList.add('colab-df-spinner');\n",
       "      try {\n",
       "        const charts = await google.colab.kernel.invokeFunction(\n",
       "            'suggestCharts', [key], {});\n",
       "      } catch (error) {\n",
       "        console.error('Error during call to suggestCharts:', error);\n",
       "      }\n",
       "      quickchartButtonEl.classList.remove('colab-df-spinner');\n",
       "      quickchartButtonEl.classList.add('colab-df-quickchart-complete');\n",
       "    }\n",
       "    (() => {\n",
       "      let quickchartButtonEl =\n",
       "        document.querySelector('#df-9112d709-e6b1-40b4-9058-910ba0efe3c3 button');\n",
       "      quickchartButtonEl.style.display =\n",
       "        google.colab.kernel.accessAllowed ? 'block' : 'none';\n",
       "    })();\n",
       "  </script>\n",
       "</div>\n",
       "\n",
       "    </div>\n",
       "  </div>\n"
      ],
      "text/plain": [
       "     v1                                                 v2\n",
       "0   ham  Go until jurong point, crazy.. Available only ...\n",
       "1   ham                      Ok lar... Joking wif u oni...\n",
       "2  spam  Free entry in 2 a wkly comp to win FA Cup fina...\n",
       "3   ham  U dun say so early hor... U c already then say...\n",
       "4   ham  Nah I don't think he goes to usf, he lives aro..."
      ]
     },
     "execution_count": 7,
     "metadata": {},
     "output_type": "execute_result"
    }
   ],
   "source": [
    "# collect dataset from kaggle\n",
    "data = pd.read_csv(r\"/content/drive/MyDrive/Spam detection/spam.csv\",encoding=\"latin-1\",usecols = [\"v1\",\"v2\"])\n",
    "data.head()"
   ]
  },
  {
   "cell_type": "markdown",
   "metadata": {
    "id": "SAov2foR1oA3"
   },
   "source": [
    "### 3.EDA before text pre-processing"
   ]
  },
  {
   "cell_type": "code",
   "execution_count": 8,
   "metadata": {
    "colab": {
     "base_uri": "https://localhost:8080/"
    },
    "executionInfo": {
     "elapsed": 14,
     "status": "ok",
     "timestamp": 1707330721670,
     "user": {
      "displayName": "Narasimharao",
      "userId": "17097520752763909307"
     },
     "user_tz": -330
    },
    "id": "W_FogdSX1vrM",
    "outputId": "4fdf8c7b-0c75-43e1-b272-22a6d0044a6f"
   },
   "outputs": [
    {
     "data": {
      "text/plain": [
       "(5572, 2)"
      ]
     },
     "execution_count": 8,
     "metadata": {},
     "output_type": "execute_result"
    }
   ],
   "source": [
    "data.shape # data contains 5572 rows and 2 columns"
   ]
  },
  {
   "cell_type": "code",
   "execution_count": 9,
   "metadata": {
    "colab": {
     "base_uri": "https://localhost:8080/"
    },
    "executionInfo": {
     "elapsed": 10,
     "status": "ok",
     "timestamp": 1707330750742,
     "user": {
      "displayName": "Narasimharao",
      "userId": "17097520752763909307"
     },
     "user_tz": -330
    },
    "id": "a_jozAAw1vt0",
    "outputId": "e725b3de-9b62-49ed-c416-1ac3f2a2744c"
   },
   "outputs": [
    {
     "name": "stdout",
     "output_type": "stream",
     "text": [
      "<class 'pandas.core.frame.DataFrame'>\n",
      "RangeIndex: 5572 entries, 0 to 5571\n",
      "Data columns (total 2 columns):\n",
      " #   Column  Non-Null Count  Dtype \n",
      "---  ------  --------------  ----- \n",
      " 0   v1      5572 non-null   object\n",
      " 1   v2      5572 non-null   object\n",
      "dtypes: object(2)\n",
      "memory usage: 87.2+ KB\n"
     ]
    }
   ],
   "source": [
    "data.info()   # both columns are object only"
   ]
  },
  {
   "cell_type": "code",
   "execution_count": 10,
   "metadata": {
    "colab": {
     "base_uri": "https://localhost:8080/"
    },
    "executionInfo": {
     "elapsed": 14,
     "status": "ok",
     "timestamp": 1707330783354,
     "user": {
      "displayName": "Narasimharao",
      "userId": "17097520752763909307"
     },
     "user_tz": -330
    },
    "id": "Ehsj-e5K1vwu",
    "outputId": "cb3ef600-77f9-43e6-a9ac-11094a33ac7f"
   },
   "outputs": [
    {
     "data": {
      "text/plain": [
       "v1    0\n",
       "v2    0\n",
       "dtype: int64"
      ]
     },
     "execution_count": 10,
     "metadata": {},
     "output_type": "execute_result"
    }
   ],
   "source": [
    "data.isnull().sum()   # both columns are doesn't contain null values"
   ]
  },
  {
   "cell_type": "code",
   "execution_count": 11,
   "metadata": {
    "colab": {
     "base_uri": "https://localhost:8080/"
    },
    "executionInfo": {
     "elapsed": 15,
     "status": "ok",
     "timestamp": 1707330818495,
     "user": {
      "displayName": "Narasimharao",
      "userId": "17097520752763909307"
     },
     "user_tz": -330
    },
    "id": "VhbFQUN11vzc",
    "outputId": "af431575-9e17-433e-9a69-a24a93b295cc"
   },
   "outputs": [
    {
     "data": {
      "text/plain": [
       "403"
      ]
     },
     "execution_count": 11,
     "metadata": {},
     "output_type": "execute_result"
    }
   ],
   "source": [
    "data.duplicated().sum()    # my data set contains 403 duplicated rows"
   ]
  },
  {
   "cell_type": "code",
   "execution_count": 12,
   "metadata": {
    "executionInfo": {
     "elapsed": 446,
     "status": "ok",
     "timestamp": 1707330933908,
     "user": {
      "displayName": "Narasimharao",
      "userId": "17097520752763909307"
     },
     "user_tz": -330
    },
    "id": "k6XPfYko1v2I"
   },
   "outputs": [],
   "source": [
    "data.drop_duplicates(keep=\"first\",inplace=True)"
   ]
  },
  {
   "cell_type": "code",
   "execution_count": 13,
   "metadata": {
    "colab": {
     "base_uri": "https://localhost:8080/"
    },
    "executionInfo": {
     "elapsed": 455,
     "status": "ok",
     "timestamp": 1707330942280,
     "user": {
      "displayName": "Narasimharao",
      "userId": "17097520752763909307"
     },
     "user_tz": -330
    },
    "id": "sRaw8z-71v5j",
    "outputId": "00bc0af6-4013-4d32-ca6f-c52157007a05"
   },
   "outputs": [
    {
     "data": {
      "text/plain": [
       "0"
      ]
     },
     "execution_count": 13,
     "metadata": {},
     "output_type": "execute_result"
    }
   ],
   "source": [
    "data.duplicated().sum()     # drop duplicate values"
   ]
  },
  {
   "cell_type": "code",
   "execution_count": 14,
   "metadata": {
    "colab": {
     "base_uri": "https://localhost:8080/"
    },
    "executionInfo": {
     "elapsed": 17,
     "status": "ok",
     "timestamp": 1707331012348,
     "user": {
      "displayName": "Narasimharao",
      "userId": "17097520752763909307"
     },
     "user_tz": -330
    },
    "id": "4wvkvHmF2vkL",
    "outputId": "3fd4b0e2-5bff-4f7e-8196-ec34e024f8d8"
   },
   "outputs": [
    {
     "data": {
      "text/plain": [
       "array(['ham', 'spam'], dtype=object)"
      ]
     },
     "execution_count": 14,
     "metadata": {},
     "output_type": "execute_result"
    }
   ],
   "source": [
    "data.v1.unique()   # unique values for class label"
   ]
  },
  {
   "cell_type": "code",
   "execution_count": 15,
   "metadata": {
    "colab": {
     "base_uri": "https://localhost:8080/"
    },
    "executionInfo": {
     "elapsed": 21,
     "status": "ok",
     "timestamp": 1707331026463,
     "user": {
      "displayName": "Narasimharao",
      "userId": "17097520752763909307"
     },
     "user_tz": -330
    },
    "id": "kWw_FFX02vme",
    "outputId": "8d51efc2-4618-4728-aa7d-5fb3b984fcd8"
   },
   "outputs": [
    {
     "data": {
      "text/plain": [
       "ham     4516\n",
       "spam     653\n",
       "Name: v1, dtype: int64"
      ]
     },
     "execution_count": 15,
     "metadata": {},
     "output_type": "execute_result"
    }
   ],
   "source": [
    "data.v1.value_counts() # 4516 rows belongs to  (ham) and 653 rows belongs to (spam)"
   ]
  },
  {
   "cell_type": "code",
   "execution_count": 18,
   "metadata": {
    "colab": {
     "base_uri": "https://localhost:8080/",
     "height": 449
    },
    "executionInfo": {
     "elapsed": 899,
     "status": "ok",
     "timestamp": 1707331117310,
     "user": {
      "displayName": "Narasimharao",
      "userId": "17097520752763909307"
     },
     "user_tz": -330
    },
    "id": "AOGG7u5M2vqJ",
    "outputId": "f90a53ae-1d1c-4628-99ea-0cc13d3d4985"
   },
   "outputs": [
    {
     "data": {
      "image/png": "[encoded data removed]",
      "text/plain": [
       "<Figure size 640x480 with 1 Axes>"
      ]
     },
     "metadata": {},
     "output_type": "display_data"
    }
   ],
   "source": [
    "sns.countplot(data.v1)    # this is imbalnced data\n",
    "plt.show()"
   ]
  },
  {
   "cell_type": "code",
   "execution_count": null,
   "metadata": {
    "id": "b_F9twsF3Lkg"
   },
   "outputs": [],
   "source": []
  },
  {
   "cell_type": "code",
   "execution_count": 19,
   "metadata": {
    "executionInfo": {
     "elapsed": 681,
     "status": "ok",
     "timestamp": 1707331397874,
     "user": {
      "displayName": "Narasimharao",
      "userId": "17097520752763909307"
     },
     "user_tz": -330
    },
    "id": "uNDzLjjS0V_L"
   },
   "outputs": [],
   "source": [
    "fv = data.iloc[:,1]\n",
    "cv = data.iloc[:,0]"
   ]
  },
  {
   "cell_type": "code",
   "execution_count": 20,
   "metadata": {
    "executionInfo": {
     "elapsed": 408,
     "status": "ok",
     "timestamp": 1707331461655,
     "user": {
      "displayName": "Narasimharao",
      "userId": "17097520752763909307"
     },
     "user_tz": -330
    },
    "id": "wmx2saDN4f4l"
   },
   "outputs": [],
   "source": [
    "cv = cv.map({\"ham\":1,\"spam\":0})     # convert class variables ham as 1 and spam as 0."
   ]
  },
  {
   "cell_type": "code",
   "execution_count": null,
   "metadata": {
    "id": "YeRFtMxh4gIE"
   },
   "outputs": [],
   "source": []
  },
  {
   "cell_type": "code",
   "execution_count": 21,
   "metadata": {
    "executionInfo": {
     "elapsed": 412,
     "status": "ok",
     "timestamp": 1707331476071,
     "user": {
      "displayName": "Narasimharao",
      "userId": "17097520752763909307"
     },
     "user_tz": -330
    },
    "id": "lPPzQBwp0V_L"
   },
   "outputs": [],
   "source": [
    "x_train,x_test,y_train,y_test = train_test_split(fv,cv,test_size=0.2,stratify=cv)"
   ]
  },
  {
   "cell_type": "markdown",
   "metadata": {
    "id": "Y-5BuC954xjS"
   },
   "source": [
    "### 4.Text pre-processing"
   ]
  },
  {
   "cell_type": "code",
   "execution_count": 22,
   "metadata": {
    "executionInfo": {
     "elapsed": 409,
     "status": "ok",
     "timestamp": 1707331522739,
     "user": {
      "displayName": "Narasimharao",
      "userId": "17097520752763909307"
     },
     "user_tz": -330
    },
    "id": "J6MvgwpI0V_L"
   },
   "outputs": [],
   "source": [
    "def lowers(x):\n",
    "    return x.str.lower()\n",
    "\n",
    "def html(x):\n",
    "    return x.apply(lambda x:re.sub(\"<.+?>\",\" \",x))\n",
    "\n",
    "def url(x):\n",
    "    return x.apply(lambda x:re.sub(\"https[s]?://.+? +\",\" \",x))\n",
    "\n",
    "def unw(x):\n",
    "    return x.apply(lambda x:re.sub(\"[]()*\\-.:,@#$%&^!?/0-9']\",\" \",x))\n",
    "\n",
    "def emoji_remove(x):\n",
    "    x = x.apply(lambda x : emoji.demojize(x))\n",
    "    return x"
   ]
  },
  {
   "cell_type": "code",
   "execution_count": 23,
   "metadata": {
    "executionInfo": {
     "elapsed": 3,
     "status": "ok",
     "timestamp": 1707331538288,
     "user": {
      "displayName": "Narasimharao",
      "userId": "17097520752763909307"
     },
     "user_tz": -330
    },
    "id": "Zq2oX_UB47Zw"
   },
   "outputs": [],
   "source": [
    "def lemma(x):\n",
    "  list_stp = stopwords.words(\"english\")  # list_stp contains group of stop words.\n",
    "  wl=WordNetLemmatizer()\n",
    "\n",
    "  def lemmatize_text(text):\n",
    "        words = wt(text)\n",
    "        lemmatized_words = [wl.lemmatize(word, pos=\"v\") for word in words if word not in list_stp]\n",
    "        return \" \".join(lemmatized_words)\n",
    "\n",
    "  return x.apply(lemmatize_text)"
   ]
  },
  {
   "cell_type": "code",
   "execution_count": 24,
   "metadata": {
    "executionInfo": {
     "elapsed": 397,
     "status": "ok",
     "timestamp": 1707331646985,
     "user": {
      "displayName": "Narasimharao",
      "userId": "17097520752763909307"
     },
     "user_tz": -330
    },
    "id": "EaQKq8mS0V_L"
   },
   "outputs": [],
   "source": [
    "# create a pipeline for pre-processing the data\n",
    "pre_pro_pi = Pipeline([(\"Emoji's\", FunctionTransformer(emoji_remove)),(\"lower\",FunctionTransformer(lowers)),(\"html\",FunctionTransformer(html)),\n",
    "                       (\"url\",FunctionTransformer(url)),(\"unw\",FunctionTransformer(unw)),(\"advance\",FunctionTransformer(lemma))])"
   ]
  },
  {
   "cell_type": "code",
   "execution_count": 25,
   "metadata": {
    "executionInfo": {
     "elapsed": 464,
     "status": "ok",
     "timestamp": 1707331669746,
     "user": {
      "displayName": "Narasimharao",
      "userId": "17097520752763909307"
     },
     "user_tz": -330
    },
    "id": "aSDs__Gy5bba"
   },
   "outputs": [],
   "source": [
    "final_pipe = Pipeline([(\"pre_process\",pre_pro_pi),(\"vectorizer\",CountVectorizer())])"
   ]
  },
  {
   "cell_type": "code",
   "execution_count": 26,
   "metadata": {
    "colab": {
     "base_uri": "https://localhost:8080/"
    },
    "executionInfo": {
     "elapsed": 2641,
     "status": "ok",
     "timestamp": 1707331675188,
     "user": {
      "displayName": "Narasimharao",
      "userId": "17097520752763909307"
     },
     "user_tz": -330
    },
    "id": "sUhTtV-S0V_L",
    "outputId": "a162288e-1b5d-47e4-8b36-abf5aba56bcb"
   },
   "outputs": [
    {
     "data": {
      "text/plain": [
       "4728                                        reach already\n",
       "1499    sms ac jsco energy high u may know channel day...\n",
       "709     mths half price orange line rental latest came...\n",
       "1683                           already squat new way walk\n",
       "3987    hello sort town already dont rush home eat nac...\n",
       "                              ...                        \n",
       "4262    den weekdays get special price haiz cant eat l...\n",
       "2519                     ok ask abt e movie u wan ktv oso\n",
       "2468             lol well without could big sale together\n",
       "2627    know lack particular dramastorm detail part worry\n",
       "1559    single line big mean \\miss anything ur \\ '' be...\n",
       "Name: v2, Length: 4135, dtype: object"
      ]
     },
     "execution_count": 26,
     "metadata": {},
     "output_type": "execute_result"
    }
   ],
   "source": [
    "pre_pro_pi.fit_transform(x_train)"
   ]
  },
  {
   "cell_type": "code",
   "execution_count": 27,
   "metadata": {
    "colab": {
     "base_uri": "https://localhost:8080/"
    },
    "executionInfo": {
     "elapsed": 1568,
     "status": "ok",
     "timestamp": 1707331686214,
     "user": {
      "displayName": "Narasimharao",
      "userId": "17097520752763909307"
     },
     "user_tz": -330
    },
    "id": "bGun291q0V_L",
    "outputId": "6e2ac5a1-f612-40b5-adcb-0b2142ef5cb1"
   },
   "outputs": [
    {
     "data": {
      "text/plain": [
       "<4135x5913 sparse matrix of type '<class 'numpy.int64'>'\n",
       "\twith 33284 stored elements in Compressed Sparse Row format>"
      ]
     },
     "execution_count": 27,
     "metadata": {},
     "output_type": "execute_result"
    }
   ],
   "source": [
    "final_pipe.fit_transform(x_train)"
   ]
  },
  {
   "cell_type": "code",
   "execution_count": 28,
   "metadata": {
    "executionInfo": {
     "elapsed": 600,
     "status": "ok",
     "timestamp": 1707331849684,
     "user": {
      "displayName": "Narasimharao",
      "userId": "17097520752763909307"
     },
     "user_tz": -330
    },
    "id": "_guT77rE0V_M"
   },
   "outputs": [],
   "source": [
    "import pickle\n",
    "pickle.dump(final_pipe,open(r\"/content/drive/MyDrive/Spam detection/pre.pkl\",\"wb\"))"
   ]
  },
  {
   "cell_type": "markdown",
   "metadata": {
    "id": "vDcQIacZ6OC1"
   },
   "source": [
    "### EDA after pre-processing\n",
    "we are perform on text data,so this is totally based on frequency of words or frequency of chracters or most common words based on types of spam or ham"
   ]
  },
  {
   "cell_type": "code",
   "execution_count": 34,
   "metadata": {
    "colab": {
     "base_uri": "https://localhost:8080/",
     "height": 206
    },
    "executionInfo": {
     "elapsed": 904,
     "status": "ok",
     "timestamp": 1707332147700,
     "user": {
      "displayName": "Narasimharao",
      "userId": "17097520752763909307"
     },
     "user_tz": -330
    },
    "id": "ocQOV0bt0V_M",
    "outputId": "27588429-87e5-4fd9-eedf-18803a9c9eaf"
   },
   "outputs": [
    {
     "data": {
      "text/html": [
       "\n",
       "  <div id=\"df-799d89bc-d56c-491c-88eb-59329e67267a\" class=\"colab-df-container\">\n",
       "    <div>\n",
       "<style scoped>\n",
       "    .dataframe tbody tr th:only-of-type {\n",
       "        vertical-align: middle;\n",
       "    }\n",
       "\n",
       "    .dataframe tbody tr th {\n",
       "        vertical-align: top;\n",
       "    }\n",
       "\n",
       "    .dataframe thead th {\n",
       "        text-align: right;\n",
       "    }\n",
       "</style>\n",
       "<table border=\"1\" class=\"dataframe\">\n",
       "  <thead>\n",
       "    <tr style=\"text-align: right;\">\n",
       "      <th></th>\n",
       "      <th>v2</th>\n",
       "      <th>v1</th>\n",
       "    </tr>\n",
       "  </thead>\n",
       "  <tbody>\n",
       "    <tr>\n",
       "      <th>4728</th>\n",
       "      <td>reach already</td>\n",
       "      <td>1</td>\n",
       "    </tr>\n",
       "    <tr>\n",
       "      <th>1499</th>\n",
       "      <td>sms ac jsco energy high u may know channel day...</td>\n",
       "      <td>0</td>\n",
       "    </tr>\n",
       "    <tr>\n",
       "      <th>709</th>\n",
       "      <td>mths half price orange line rental latest came...</td>\n",
       "      <td>0</td>\n",
       "    </tr>\n",
       "    <tr>\n",
       "      <th>1683</th>\n",
       "      <td>already squat new way walk</td>\n",
       "      <td>1</td>\n",
       "    </tr>\n",
       "    <tr>\n",
       "      <th>3987</th>\n",
       "      <td>hello sort town already dont rush home eat nac...</td>\n",
       "      <td>1</td>\n",
       "    </tr>\n",
       "  </tbody>\n",
       "</table>\n",
       "</div>\n",
       "    <div class=\"colab-df-buttons\">\n",
       "\n",
       "  <div class=\"colab-df-container\">\n",
       "    <button class=\"colab-df-convert\" onclick=\"convertToInteractive('df-799d89bc-d56c-491c-88eb-59329e67267a')\"\n",
       "            title=\"Convert this dataframe to an interactive table.\"\n",
       "            style=\"display:none;\">\n",
       "\n",
       "  <svg xmlns=\"http://www.w3.org/2000/svg\" height=\"24px\" viewBox=\"0 -960 960 960\">\n",
       "    <path d=\"M120-120v-720h720v720H120Zm60-500h600v-160H180v160Zm220 220h160v-160H400v160Zm0 220h160v-160H400v160ZM180-400h160v-160H180v160Zm440 0h160v-160H620v160ZM180-180h160v-160H180v160Zm440 0h160v-160H620v160Z\"/>\n",
       "  </svg>\n",
       "    </button>\n",
       "\n",
       "  <style>\n",
       "    .colab-df-container {\n",
       "      display:flex;\n",
       "      gap: 12px;\n",
       "    }\n",
       "\n",
       "    .colab-df-convert {\n",
       "      background-color: #E8F0FE;\n",
       "      border: none;\n",
       "      border-radius: 50%;\n",
       "      cursor: pointer;\n",
       "      display: none;\n",
       "      fill: #1967D2;\n",
       "      height: 32px;\n",
       "      padding: 0 0 0 0;\n",
       "      width: 32px;\n",
       "    }\n",
       "\n",
       "    .colab-df-convert:hover {\n",
       "      background-color: #E2EBFA;\n",
       "      box-shadow: 0px 1px 2px rgba(60, 64, 67, 0.3), 0px 1px 3px 1px rgba(60, 64, 67, 0.15);\n",
       "      fill: #174EA6;\n",
       "    }\n",
       "\n",
       "    .colab-df-buttons div {\n",
       "      margin-bottom: 4px;\n",
       "    }\n",
       "\n",
       "    [theme=dark] .colab-df-convert {\n",
       "      background-color: #3B4455;\n",
       "      fill: #D2E3FC;\n",
       "    }\n",
       "\n",
       "    [theme=dark] .colab-df-convert:hover {\n",
       "      background-color: #434B5C;\n",
       "      box-shadow: 0px 1px 3px 1px rgba(0, 0, 0, 0.15);\n",
       "      filter: drop-shadow(0px 1px 2px rgba(0, 0, 0, 0.3));\n",
       "      fill: #FFFFFF;\n",
       "    }\n",
       "  </style>\n",
       "\n",
       "    <script>\n",
       "      const buttonEl =\n",
       "        document.querySelector('#df-799d89bc-d56c-491c-88eb-59329e67267a button.colab-df-convert');\n",
       "      buttonEl.style.display =\n",
       "        google.colab.kernel.accessAllowed ? 'block' : 'none';\n",
       "\n",
       "      async function convertToInteractive(key) {\n",
       "        const element = document.querySelector('#df-799d89bc-d56c-491c-88eb-59329e67267a');\n",
       "        const dataTable =\n",
       "          await google.colab.kernel.invokeFunction('convertToInteractive',\n",
       "                                                    [key], {});\n",
       "        if (!dataTable) return;\n",
       "\n",
       "        const docLinkHtml = 'Like what you see? Visit the ' +\n",
       "          '<a target=\"_blank\" href=https://colab.research.google.com/notebooks/data_table.ipynb>data table notebook</a>'\n",
       "          + ' to learn more about interactive tables.';\n",
       "        element.innerHTML = '';\n",
       "        dataTable['output_type'] = 'display_data';\n",
       "        await google.colab.output.renderOutput(dataTable, element);\n",
       "        const docLink = document.createElement('div');\n",
       "        docLink.innerHTML = docLinkHtml;\n",
       "        element.appendChild(docLink);\n",
       "      }\n",
       "    </script>\n",
       "  </div>\n",
       "\n",
       "\n",
       "<div id=\"df-a68f498a-80ec-41f3-acee-b46e0c725dc1\">\n",
       "  <button class=\"colab-df-quickchart\" onclick=\"quickchart('df-a68f498a-80ec-41f3-acee-b46e0c725dc1')\"\n",
       "            title=\"Suggest charts\"\n",
       "            style=\"display:none;\">\n",
       "\n",
       "<svg xmlns=\"http://www.w3.org/2000/svg\" height=\"24px\"viewBox=\"0 0 24 24\"\n",
       "     width=\"24px\">\n",
       "    <g>\n",
       "        <path d=\"M19 3H5c-1.1 0-2 .9-2 2v14c0 1.1.9 2 2 2h14c1.1 0 2-.9 2-2V5c0-1.1-.9-2-2-2zM9 17H7v-7h2v7zm4 0h-2V7h2v10zm4 0h-2v-4h2v4z\"/>\n",
       "    </g>\n",
       "</svg>\n",
       "  </button>\n",
       "\n",
       "<style>\n",
       "  .colab-df-quickchart {\n",
       "      --bg-color: #E8F0FE;\n",
       "      --fill-color: #1967D2;\n",
       "      --hover-bg-color: #E2EBFA;\n",
       "      --hover-fill-color: #174EA6;\n",
       "      --disabled-fill-color: #AAA;\n",
       "      --disabled-bg-color: #DDD;\n",
       "  }\n",
       "\n",
       "  [theme=dark] .colab-df-quickchart {\n",
       "      --bg-color: #3B4455;\n",
       "      --fill-color: #D2E3FC;\n",
       "      --hover-bg-color: #434B5C;\n",
       "      --hover-fill-color: #FFFFFF;\n",
       "      --disabled-bg-color: #3B4455;\n",
       "      --disabled-fill-color: #666;\n",
       "  }\n",
       "\n",
       "  .colab-df-quickchart {\n",
       "    background-color: var(--bg-color);\n",
       "    border: none;\n",
       "    border-radius: 50%;\n",
       "    cursor: pointer;\n",
       "    display: none;\n",
       "    fill: var(--fill-color);\n",
       "    height: 32px;\n",
       "    padding: 0;\n",
       "    width: 32px;\n",
       "  }\n",
       "\n",
       "  .colab-df-quickchart:hover {\n",
       "    background-color: var(--hover-bg-color);\n",
       "    box-shadow: 0 1px 2px rgba(60, 64, 67, 0.3), 0 1px 3px 1px rgba(60, 64, 67, 0.15);\n",
       "    fill: var(--button-hover-fill-color);\n",
       "  }\n",
       "\n",
       "  .colab-df-quickchart-complete:disabled,\n",
       "  .colab-df-quickchart-complete:disabled:hover {\n",
       "    background-color: var(--disabled-bg-color);\n",
       "    fill: var(--disabled-fill-color);\n",
       "    box-shadow: none;\n",
       "  }\n",
       "\n",
       "  .colab-df-spinner {\n",
       "    border: 2px solid var(--fill-color);\n",
       "    border-color: transparent;\n",
       "    border-bottom-color: var(--fill-color);\n",
       "    animation:\n",
       "      spin 1s steps(1) infinite;\n",
       "  }\n",
       "\n",
       "  @keyframes spin {\n",
       "    0% {\n",
       "      border-color: transparent;\n",
       "      border-bottom-color: var(--fill-color);\n",
       "      border-left-color: var(--fill-color);\n",
       "    }\n",
       "    20% {\n",
       "      border-color: transparent;\n",
       "      border-left-color: var(--fill-color);\n",
       "      border-top-color: var(--fill-color);\n",
       "    }\n",
       "    30% {\n",
       "      border-color: transparent;\n",
       "      border-left-color: var(--fill-color);\n",
       "      border-top-color: var(--fill-color);\n",
       "      border-right-color: var(--fill-color);\n",
       "    }\n",
       "    40% {\n",
       "      border-color: transparent;\n",
       "      border-right-color: var(--fill-color);\n",
       "      border-top-color: var(--fill-color);\n",
       "    }\n",
       "    60% {\n",
       "      border-color: transparent;\n",
       "      border-right-color: var(--fill-color);\n",
       "    }\n",
       "    80% {\n",
       "      border-color: transparent;\n",
       "      border-right-color: var(--fill-color);\n",
       "      border-bottom-color: var(--fill-color);\n",
       "    }\n",
       "    90% {\n",
       "      border-color: transparent;\n",
       "      border-bottom-color: var(--fill-color);\n",
       "    }\n",
       "  }\n",
       "</style>\n",
       "\n",
       "  <script>\n",
       "    async function quickchart(key) {\n",
       "      const quickchartButtonEl =\n",
       "        document.querySelector('#' + key + ' button');\n",
       "      quickchartButtonEl.disabled = true;  // To prevent multiple clicks.\n",
       "      quickchartButtonEl.classList.add('colab-df-spinner');\n",
       "      try {\n",
       "        const charts = await google.colab.kernel.invokeFunction(\n",
       "            'suggestCharts', [key], {});\n",
       "      } catch (error) {\n",
       "        console.error('Error during call to suggestCharts:', error);\n",
       "      }\n",
       "      quickchartButtonEl.classList.remove('colab-df-spinner');\n",
       "      quickchartButtonEl.classList.add('colab-df-quickchart-complete');\n",
       "    }\n",
       "    (() => {\n",
       "      let quickchartButtonEl =\n",
       "        document.querySelector('#df-a68f498a-80ec-41f3-acee-b46e0c725dc1 button');\n",
       "      quickchartButtonEl.style.display =\n",
       "        google.colab.kernel.accessAllowed ? 'block' : 'none';\n",
       "    })();\n",
       "  </script>\n",
       "</div>\n",
       "\n",
       "    </div>\n",
       "  </div>\n"
      ],
      "text/plain": [
       "                                                     v2  v1\n",
       "4728                                      reach already   1\n",
       "1499  sms ac jsco energy high u may know channel day...   0\n",
       "709   mths half price orange line rental latest came...   0\n",
       "1683                         already squat new way walk   1\n",
       "3987  hello sort town already dont rush home eat nac...   1"
      ]
     },
     "execution_count": 34,
     "metadata": {},
     "output_type": "execute_result"
    }
   ],
   "source": [
    "featur_var = pre_pro_pi.fit_transform(x_train)\n",
    "featur_var = pd.DataFrame(featur_var)\n",
    "class_var = pd.DataFrame(y_train,columns = [\"v1\"])\n",
    "\n",
    "df = pd.concat([featur_var,class_var],axis=1)    # concat fv and data[\"Target\"] as new data frame\n",
    "df.head()"
   ]
  },
  {
   "cell_type": "code",
   "execution_count": 35,
   "metadata": {
    "executionInfo": {
     "elapsed": 408,
     "status": "ok",
     "timestamp": 1707332223494,
     "user": {
      "displayName": "Narasimharao",
      "userId": "17097520752763909307"
     },
     "user_tz": -330
    },
    "id": "6qO6hd_X6NF3"
   },
   "outputs": [],
   "source": [
    "df[\"v1\"] = df[\"v1\"].map({0:\"spam\",1: \"ham\"})"
   ]
  },
  {
   "cell_type": "code",
   "execution_count": 36,
   "metadata": {
    "executionInfo": {
     "elapsed": 6,
     "status": "ok",
     "timestamp": 1707332268915,
     "user": {
      "displayName": "Narasimharao",
      "userId": "17097520752763909307"
     },
     "user_tz": -330
    },
    "id": "UMuc0Zr06NIR"
   },
   "outputs": [],
   "source": [
    "# seperate data into Targets.\n",
    "gp = df.groupby(\"v1\")\n",
    "ham = gp.get_group(\"ham\")[\"v2\"]\n",
    "spam = gp.get_group(\"spam\")[\"v2\"]"
   ]
  },
  {
   "cell_type": "code",
   "execution_count": 37,
   "metadata": {
    "colab": {
     "base_uri": "https://localhost:8080/"
    },
    "executionInfo": {
     "elapsed": 426,
     "status": "ok",
     "timestamp": 1707332290831,
     "user": {
      "displayName": "Narasimharao",
      "userId": "17097520752763909307"
     },
     "user_tz": -330
    },
    "id": "dm6mJAG36NKr",
    "outputId": "7b7941e6-03d7-49fe-ece6-b634043e519d"
   },
   "outputs": [
    {
     "data": {
      "text/plain": [
       "4728                                        reach already\n",
       "1683                           already squat new way walk\n",
       "3987    hello sort town already dont rush home eat nac...\n",
       "3446                sit ard nothing lor u leh busy w work\n",
       "1315    whenevr ur sad whenevr ur gray remembr im list...\n",
       "                              ...                        \n",
       "4262    den weekdays get special price haiz cant eat l...\n",
       "2519                     ok ask abt e movie u wan ktv oso\n",
       "2468             lol well without could big sale together\n",
       "2627    know lack particular dramastorm detail part worry\n",
       "1559    single line big mean \\miss anything ur \\ '' be...\n",
       "Name: v2, Length: 3613, dtype: object"
      ]
     },
     "execution_count": 37,
     "metadata": {},
     "output_type": "execute_result"
    }
   ],
   "source": [
    "gp.get_group(\"ham\")[\"v2\"]"
   ]
  },
  {
   "cell_type": "code",
   "execution_count": 38,
   "metadata": {
    "executionInfo": {
     "elapsed": 451,
     "status": "ok",
     "timestamp": 1707332350732,
     "user": {
      "displayName": "Narasimharao",
      "userId": "17097520752763909307"
     },
     "user_tz": -330
    },
    "id": "IKdvj0On6NNC"
   },
   "outputs": [],
   "source": [
    "# Combine entire rows text into one text\n",
    "ft = \" \".join(gp.get_group(\"spam\")[\"v2\"]).split()\n",
    "jt = \" \".join(gp.get_group(\"ham\")[\"v2\"]).split()\n"
   ]
  },
  {
   "cell_type": "code",
   "execution_count": 39,
   "metadata": {
    "colab": {
     "base_uri": "https://localhost:8080/"
    },
    "executionInfo": {
     "elapsed": 424,
     "status": "ok",
     "timestamp": 1707332371985,
     "user": {
      "displayName": "Narasimharao",
      "userId": "17097520752763909307"
     },
     "user_tz": -330
    },
    "id": "TNNwQVYi6NQh",
    "outputId": "3e65e39c-33d6-4ef9-9d63-6dd34d7e0a3b"
   },
   "outputs": [
    {
     "name": "stdout",
     "output_type": "stream",
     "text": [
      "spam class contains 8391 number of words\n",
      "ham class contains 29594 number of words\n"
     ]
    }
   ],
   "source": [
    "# find how many words contain each emotion\n",
    "print(\"spam class contains\",len(ft),\"number of words\")\n",
    "print(\"ham class contains\",len(jt),\"number of words\")"
   ]
  },
  {
   "cell_type": "code",
   "execution_count": 40,
   "metadata": {
    "colab": {
     "base_uri": "https://localhost:8080/"
    },
    "executionInfo": {
     "elapsed": 9256,
     "status": "ok",
     "timestamp": 1707332397183,
     "user": {
      "displayName": "Narasimharao",
      "userId": "17097520752763909307"
     },
     "user_tz": -330
    },
    "id": "ksuv6SKL8JJI",
    "outputId": "680ebcb6-be7d-43c9-e271-c530cafc4851"
   },
   "outputs": [
    {
     "name": "stdout",
     "output_type": "stream",
     "text": [
      "Requirement already satisfied: wordcloud in /usr/local/lib/python3.10/dist-packages (1.9.3)\n",
      "Requirement already satisfied: numpy>=1.6.1 in /usr/local/lib/python3.10/dist-packages (from wordcloud) (1.23.5)\n",
      "Requirement already satisfied: pillow in /usr/local/lib/python3.10/dist-packages (from wordcloud) (9.4.0)\n",
      "Requirement already satisfied: matplotlib in /usr/local/lib/python3.10/dist-packages (from wordcloud) (3.7.1)\n",
      "Requirement already satisfied: contourpy>=1.0.1 in /usr/local/lib/python3.10/dist-packages (from matplotlib->wordcloud) (1.2.0)\n",
      "Requirement already satisfied: cycler>=0.10 in /usr/local/lib/python3.10/dist-packages (from matplotlib->wordcloud) (0.12.1)\n",
      "Requirement already satisfied: fonttools>=4.22.0 in /usr/local/lib/python3.10/dist-packages (from matplotlib->wordcloud) (4.47.2)\n",
      "Requirement already satisfied: kiwisolver>=1.0.1 in /usr/local/lib/python3.10/dist-packages (from matplotlib->wordcloud) (1.4.5)\n",
      "Requirement already satisfied: packaging>=20.0 in /usr/local/lib/python3.10/dist-packages (from matplotlib->wordcloud) (23.2)\n",
      "Requirement already satisfied: pyparsing>=2.3.1 in /usr/local/lib/python3.10/dist-packages (from matplotlib->wordcloud) (3.1.1)\n",
      "Requirement already satisfied: python-dateutil>=2.7 in /usr/local/lib/python3.10/dist-packages (from matplotlib->wordcloud) (2.8.2)\n",
      "Requirement already satisfied: six>=1.5 in /usr/local/lib/python3.10/dist-packages (from python-dateutil>=2.7->matplotlib->wordcloud) (1.16.0)\n"
     ]
    }
   ],
   "source": [
    "pip install wordcloud"
   ]
  },
  {
   "cell_type": "code",
   "execution_count": 41,
   "metadata": {
    "colab": {
     "base_uri": "https://localhost:8080/"
    },
    "executionInfo": {
     "elapsed": 11,
     "status": "ok",
     "timestamp": 1707332402920,
     "user": {
      "displayName": "Narasimharao",
      "userId": "17097520752763909307"
     },
     "user_tz": -330
    },
    "id": "8oh7LS458JLg",
    "outputId": "fae3e36b-a19a-453f-aa96-9df52e3ebc40"
   },
   "outputs": [
    {
     "data": {
      "text/plain": [
       "[('call', 269),\n",
       " ('å£', 197),\n",
       " ('free', 170),\n",
       " ('u', 121),\n",
       " ('p', 121),\n",
       " ('txt', 114),\n",
       " ('ur', 95),\n",
       " ('mobile', 93),\n",
       " ('text', 88),\n",
       " ('stop', 86)]"
      ]
     },
     "execution_count": 41,
     "metadata": {},
     "output_type": "execute_result"
    }
   ],
   "source": [
    "from collections import Counter\n",
    "Counter(ft).most_common(10)"
   ]
  },
  {
   "cell_type": "code",
   "execution_count": 42,
   "metadata": {
    "colab": {
     "base_uri": "https://localhost:8080/",
     "height": 313
    },
    "executionInfo": {
     "elapsed": 1453,
     "status": "ok",
     "timestamp": 1707332439042,
     "user": {
      "displayName": "Narasimharao",
      "userId": "17097520752763909307"
     },
     "user_tz": -330
    },
    "id": "vh_9l2OS8Mj4",
    "outputId": "1800396f-3c9a-4c31-ae4f-a9b0a533d49a"
   },
   "outputs": [
    {
     "data": {
      "image/png": "[encoded data removed]",
      "text/plain": [
       "<Figure size 640x480 with 1 Axes>"
      ]
     },
     "metadata": {},
     "output_type": "display_data"
    }
   ],
   "source": [
    "from wordcloud import WordCloud\n",
    "wc = WordCloud().generate(\" \".join(gp.get_group(\"spam\")[\"v2\"]))\n",
    "plt.imshow(wc)\n",
    "plt.show()"
   ]
  },
  {
   "cell_type": "code",
   "execution_count": 43,
   "metadata": {
    "colab": {
     "base_uri": "https://localhost:8080/"
    },
    "executionInfo": {
     "elapsed": 417,
     "status": "ok",
     "timestamp": 1707332454832,
     "user": {
      "displayName": "Narasimharao",
      "userId": "17097520752763909307"
     },
     "user_tz": -330
    },
    "id": "hUgQsVFZ8MtO",
    "outputId": "1e7a5d27-8cdc-4caa-d868-60d7e5ea1580"
   },
   "outputs": [
    {
     "data": {
      "text/plain": [
       "[('u', 741),\n",
       " (';', 545),\n",
       " ('get', 479),\n",
       " ('go', 406),\n",
       " ('come', 237),\n",
       " ('gt', 231),\n",
       " ('lt', 229),\n",
       " ('ok', 209),\n",
       " ('know', 195),\n",
       " ('call', 193)]"
      ]
     },
     "execution_count": 43,
     "metadata": {},
     "output_type": "execute_result"
    }
   ],
   "source": [
    "Counter(jt).most_common(10)"
   ]
  },
  {
   "cell_type": "code",
   "execution_count": 44,
   "metadata": {
    "colab": {
     "base_uri": "https://localhost:8080/",
     "height": 313
    },
    "executionInfo": {
     "elapsed": 4434,
     "status": "ok",
     "timestamp": 1707332482265,
     "user": {
      "displayName": "Narasimharao",
      "userId": "17097520752763909307"
     },
     "user_tz": -330
    },
    "id": "wYkjzIBl8JO2",
    "outputId": "b663a396-9ed9-4017-ab02-42866d5c2be1"
   },
   "outputs": [
    {
     "data": {
      "image/png": "[encoded data removed]",
      "text/plain": [
       "<Figure size 640x480 with 1 Axes>"
      ]
     },
     "metadata": {},
     "output_type": "display_data"
    }
   ],
   "source": [
    "from wordcloud import WordCloud\n",
    "wc = WordCloud().generate(\" \".join(gp.get_group(\"ham\")[\"v2\"]))\n",
    "plt.imshow(wc)\n",
    "plt.show()"
   ]
  },
  {
   "cell_type": "code",
   "execution_count": null,
   "metadata": {
    "id": "G0nlJz6a8kCz"
   },
   "outputs": [],
   "source": []
  },
  {
   "cell_type": "markdown",
   "metadata": {
    "id": "zrTN3yWN8mA1"
   },
   "source": [
    "### 6.feature engineering"
   ]
  },
  {
   "cell_type": "code",
   "execution_count": 45,
   "metadata": {
    "executionInfo": {
     "elapsed": 2272,
     "status": "ok",
     "timestamp": 1707332519894,
     "user": {
      "displayName": "Narasimharao",
      "userId": "17097520752763909307"
     },
     "user_tz": -330
    },
    "id": "NJh1gg4n8kFW"
   },
   "outputs": [],
   "source": [
    "final_xtrain = final_pipe.fit_transform(x_train)\n",
    "final_xtest = final_pipe.transform(x_test)"
   ]
  },
  {
   "cell_type": "code",
   "execution_count": 46,
   "metadata": {
    "executionInfo": {
     "elapsed": 556,
     "status": "ok",
     "timestamp": 1707332529551,
     "user": {
      "displayName": "Narasimharao",
      "userId": "17097520752763909307"
     },
     "user_tz": -330
    },
    "id": "vdAHyQdw8kIt"
   },
   "outputs": [],
   "source": [
    "cv = CountVectorizer()    # it will take CountVectorizer function"
   ]
  },
  {
   "cell_type": "markdown",
   "metadata": {
    "id": "RorgIbQI8vUj"
   },
   "source": [
    "### 7.Model training"
   ]
  },
  {
   "cell_type": "code",
   "execution_count": 47,
   "metadata": {
    "executionInfo": {
     "elapsed": 564,
     "status": "ok",
     "timestamp": 1707332576376,
     "user": {
      "displayName": "Narasimharao",
      "userId": "17097520752763909307"
     },
     "user_tz": -330
    },
    "id": "oZTJsTz60V_M"
   },
   "outputs": [],
   "source": [
    "mb = MultinomialNB()\n",
    "model = mb.fit(final_xtrain,y_train)"
   ]
  },
  {
   "cell_type": "code",
   "execution_count": 48,
   "metadata": {
    "executionInfo": {
     "elapsed": 422,
     "status": "ok",
     "timestamp": 1707332635437,
     "user": {
      "displayName": "Narasimharao",
      "userId": "17097520752763909307"
     },
     "user_tz": -330
    },
    "id": "nDXqdJgo0V_M"
   },
   "outputs": [],
   "source": [
    "pickle.dump(model,open(r\"/content/drive/MyDrive/Spam detection/model.pkl\",\"wb\"))"
   ]
  },
  {
   "cell_type": "code",
   "execution_count": null,
   "metadata": {
    "id": "yWzxiZGI0V_M"
   },
   "outputs": [],
   "source": []
  },
  {
   "cell_type": "markdown",
   "metadata": {
    "id": "vdpQq8SI9Knl"
   },
   "source": [
    "### 8.Model evaluation"
   ]
  },
  {
   "cell_type": "code",
   "execution_count": 55,
   "metadata": {
    "executionInfo": {
     "elapsed": 3,
     "status": "ok",
     "timestamp": 1707332785637,
     "user": {
      "displayName": "Narasimharao",
      "userId": "17097520752763909307"
     },
     "user_tz": -330
    },
    "id": "tMgFMuZR9Mue"
   },
   "outputs": [],
   "source": [
    "from sklearn.metrics import confusion_matrix , classification_report,accuracy_score"
   ]
  },
  {
   "cell_type": "code",
   "execution_count": 52,
   "metadata": {
    "colab": {
     "base_uri": "https://localhost:8080/"
    },
    "executionInfo": {
     "elapsed": 451,
     "status": "ok",
     "timestamp": 1707332714989,
     "user": {
      "displayName": "Narasimharao",
      "userId": "17097520752763909307"
     },
     "user_tz": -330
    },
    "id": "QVa03IkH9PwH",
    "outputId": "a084bb32-f211-413f-836a-d2320098156d"
   },
   "outputs": [
    {
     "name": "stdout",
     "output_type": "stream",
     "text": [
      "              precision    recall  f1-score   support\n",
      "\n",
      "           0       0.95      0.92      0.94       131\n",
      "           1       0.99      0.99      0.99       903\n",
      "\n",
      "    accuracy                           0.98      1034\n",
      "   macro avg       0.97      0.96      0.96      1034\n",
      "weighted avg       0.98      0.98      0.98      1034\n",
      "\n"
     ]
    }
   ],
   "source": [
    "print(classification_report(y_test,model.predict(final_xtest)) )   # it will give 97% accuracy to predicting class labels"
   ]
  },
  {
   "cell_type": "code",
   "execution_count": 54,
   "metadata": {
    "colab": {
     "base_uri": "https://localhost:8080/"
    },
    "executionInfo": {
     "elapsed": 469,
     "status": "ok",
     "timestamp": 1707332774354,
     "user": {
      "displayName": "Narasimharao",
      "userId": "17097520752763909307"
     },
     "user_tz": -330
    },
    "id": "ylQ17Hv59SkP",
    "outputId": "0a2df845-25b1-4b6f-bd79-1009c4c6161a"
   },
   "outputs": [
    {
     "data": {
      "text/plain": [
       "array([[121,  10],\n",
       "       [  6, 897]])"
      ]
     },
     "execution_count": 54,
     "metadata": {},
     "output_type": "execute_result"
    }
   ],
   "source": [
    "confusion_matrix(y_test,model.predict(final_xtest))"
   ]
  },
  {
   "cell_type": "code",
   "execution_count": 56,
   "metadata": {
    "colab": {
     "base_uri": "https://localhost:8080/"
    },
    "executionInfo": {
     "elapsed": 415,
     "status": "ok",
     "timestamp": 1707332806724,
     "user": {
      "displayName": "Narasimharao",
      "userId": "17097520752763909307"
     },
     "user_tz": -330
    },
    "id": "gXl4pTLn9qOU",
    "outputId": "cd806b97-9380-4f0f-d42c-fbd47fd4fbb9"
   },
   "outputs": [
    {
     "data": {
      "text/plain": [
       "0.9845261121856866"
      ]
     },
     "execution_count": 56,
     "metadata": {},
     "output_type": "execute_result"
    }
   ],
   "source": [
    "accuracy_score(y_test,model.predict(final_xtest))"
   ]
  },
  {
   "cell_type": "code",
   "execution_count": null,
   "metadata": {
    "id": "o6IIn8pI9yKm"
   },
   "outputs": [],
   "source": []
  },
  {
   "cell_type": "markdown",
   "metadata": {
    "id": "2nlI7aIi90bP"
   },
   "source": [
    "### 9.Testing"
   ]
  },
  {
   "cell_type": "code",
   "execution_count": 57,
   "metadata": {
    "colab": {
     "base_uri": "https://localhost:8080/"
    },
    "executionInfo": {
     "elapsed": 21,
     "status": "ok",
     "timestamp": 1707332868838,
     "user": {
      "displayName": "Narasimharao",
      "userId": "17097520752763909307"
     },
     "user_tz": -330
    },
    "id": "pqgvZ9sZ9105",
    "outputId": "ab6ecbce-7787-403d-dcb3-d41cc5da909f"
   },
   "outputs": [
    {
     "name": "stdout",
     "output_type": "stream",
     "text": [
      "ham\n"
     ]
    }
   ],
   "source": [
    "m = final_pipe.transform(x_test.iloc[[1]])  # convert text into sprse matrix used by transform() method\n",
    "pred = model.predict(m)   # it is used to shows that predicted value\n",
    "\n",
    "if pred == 0:\n",
    "    print(\"spam\")\n",
    "else:\n",
    "    print(\"ham\")"
   ]
  },
  {
   "cell_type": "code",
   "execution_count": null,
   "metadata": {
    "id": "6nQkQQDy-BeT"
   },
   "outputs": [],
   "source": []
  },
  {
   "cell_type": "markdown",
   "metadata": {
    "id": "7CqCZcWF-DWw"
   },
   "source": [
    "### 10.Conclusion"
   ]
  },
  {
   "cell_type": "markdown",
   "metadata": {
    "id": "JrEWZjWD-aY7"
   },
   "source": [
    "In conclusion, the development of machine learning models for predicting spam or ham (non-spam) based on textual data represents a critical application in modern information security and communication filtering. Through meticulous data preprocessing, feature engineering, and model selection, researchers and practitioners have achieved remarkable success in accurately classifying incoming messages.\n",
    "\n",
    "Key to the effectiveness of these models is the careful selection and engineering of features, which often include word frequency, presence of specific keywords, and syntactic or semantic characteristics of the text. Additionally, techniques such as Countvectorizer and word embeddings have proven instrumental in capturing nuanced patterns and semantic relationships within the textual data."
   ]
  },
  {
   "cell_type": "code",
   "execution_count": null,
   "metadata": {
    "id": "SrJLgw5P-FCM"
   },
   "outputs": [],
   "source": []
  }
 ],
 "metadata": {
  "colab": {
   "provenance": []
  },
  "kernelspec": {
   "display_name": "Python 3",
   "language": "python",
   "name": "python3"
  },
  "language_info": {
   "codemirror_mode": {
    "name": "ipython",
    "version": 3
   },
   "file_extension": ".py",
   "mimetype": "text/x-python",
   "name": "python",
   "nbconvert_exporter": "python",
   "pygments_lexer": "ipython3",
   "version": "3.7.4"
  }
 },
 "nbformat": 4,
 "nbformat_minor": 1
}
