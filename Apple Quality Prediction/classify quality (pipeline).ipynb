{
 "cells": [
  {
   "cell_type": "code",
   "execution_count": 1,
   "metadata": {},
   "outputs": [],
   "source": [
    "import pandas as pd\n",
    "import numpy as np\n",
    "import matplotlib.pyplot as plt\n",
    "import seaborn as sns\n",
    "import re\n",
    "from sklearn.model_selection import train_test_split\n",
    "\n",
    "from sklearn.compose import ColumnTransformer\n",
    "from sklearn.pipeline import Pipeline,make_pipeline\n",
    "\n",
    "from sklearn.model_selection import train_test_split\n",
    "from sklearn.preprocessing import StandardScaler\n",
    "\n",
    "from sklearn.impute import SimpleImputer\n",
    "\n",
    "from sklearn.naive_bayes import GaussianNB,MultinomialNB"
   ]
  },
  {
   "cell_type": "markdown",
   "metadata": {},
   "source": [
    "## 1.Problem Statement\n",
    "- Create a model to classify the Quality of an apple based on their features"
   ]
  },
  {
   "cell_type": "markdown",
   "metadata": {},
   "source": [
    "## 2. Data Collection"
   ]
  },
  {
   "cell_type": "code",
   "execution_count": 2,
   "metadata": {},
   "outputs": [
    {
     "data": {
      "text/html": [
       "<div>\n",
       "<style scoped>\n",
       "    .dataframe tbody tr th:only-of-type {\n",
       "        vertical-align: middle;\n",
       "    }\n",
       "\n",
       "    .dataframe tbody tr th {\n",
       "        vertical-align: top;\n",
       "    }\n",
       "\n",
       "    .dataframe thead th {\n",
       "        text-align: right;\n",
       "    }\n",
       "</style>\n",
       "<table border=\"1\" class=\"dataframe\">\n",
       "  <thead>\n",
       "    <tr style=\"text-align: right;\">\n",
       "      <th></th>\n",
       "      <th>A_id</th>\n",
       "      <th>Size</th>\n",
       "      <th>Weight</th>\n",
       "      <th>Sweetness</th>\n",
       "      <th>Crunchiness</th>\n",
       "      <th>Juiciness</th>\n",
       "      <th>Ripeness</th>\n",
       "      <th>Acidity</th>\n",
       "      <th>Quality</th>\n",
       "    </tr>\n",
       "  </thead>\n",
       "  <tbody>\n",
       "    <tr>\n",
       "      <td>0</td>\n",
       "      <td>0.0</td>\n",
       "      <td>-3.970049</td>\n",
       "      <td>-2.512336</td>\n",
       "      <td>5.346330</td>\n",
       "      <td>-1.012009</td>\n",
       "      <td>1.844900</td>\n",
       "      <td>0.329840</td>\n",
       "      <td>-0.491590483</td>\n",
       "      <td>good</td>\n",
       "    </tr>\n",
       "    <tr>\n",
       "      <td>1</td>\n",
       "      <td>1.0</td>\n",
       "      <td>-1.195217</td>\n",
       "      <td>-2.839257</td>\n",
       "      <td>3.664059</td>\n",
       "      <td>1.588232</td>\n",
       "      <td>0.853286</td>\n",
       "      <td>0.867530</td>\n",
       "      <td>-0.722809367</td>\n",
       "      <td>good</td>\n",
       "    </tr>\n",
       "    <tr>\n",
       "      <td>2</td>\n",
       "      <td>2.0</td>\n",
       "      <td>-0.292024</td>\n",
       "      <td>-1.351282</td>\n",
       "      <td>-1.738429</td>\n",
       "      <td>-0.342616</td>\n",
       "      <td>2.838636</td>\n",
       "      <td>-0.038033</td>\n",
       "      <td>2.621636473</td>\n",
       "      <td>bad</td>\n",
       "    </tr>\n",
       "    <tr>\n",
       "      <td>3</td>\n",
       "      <td>3.0</td>\n",
       "      <td>-0.657196</td>\n",
       "      <td>-2.271627</td>\n",
       "      <td>1.324874</td>\n",
       "      <td>-0.097875</td>\n",
       "      <td>3.637970</td>\n",
       "      <td>-3.413761</td>\n",
       "      <td>0.790723217</td>\n",
       "      <td>good</td>\n",
       "    </tr>\n",
       "    <tr>\n",
       "      <td>4</td>\n",
       "      <td>4.0</td>\n",
       "      <td>1.364217</td>\n",
       "      <td>-1.296612</td>\n",
       "      <td>-0.384658</td>\n",
       "      <td>-0.553006</td>\n",
       "      <td>3.030874</td>\n",
       "      <td>-1.303849</td>\n",
       "      <td>0.501984036</td>\n",
       "      <td>good</td>\n",
       "    </tr>\n",
       "  </tbody>\n",
       "</table>\n",
       "</div>"
      ],
      "text/plain": [
       "   A_id      Size    Weight  Sweetness  Crunchiness  Juiciness  Ripeness  \\\n",
       "0   0.0 -3.970049 -2.512336   5.346330    -1.012009   1.844900  0.329840   \n",
       "1   1.0 -1.195217 -2.839257   3.664059     1.588232   0.853286  0.867530   \n",
       "2   2.0 -0.292024 -1.351282  -1.738429    -0.342616   2.838636 -0.038033   \n",
       "3   3.0 -0.657196 -2.271627   1.324874    -0.097875   3.637970 -3.413761   \n",
       "4   4.0  1.364217 -1.296612  -0.384658    -0.553006   3.030874 -1.303849   \n",
       "\n",
       "        Acidity Quality  \n",
       "0  -0.491590483    good  \n",
       "1  -0.722809367    good  \n",
       "2   2.621636473     bad  \n",
       "3   0.790723217    good  \n",
       "4   0.501984036    good  "
      ]
     },
     "execution_count": 2,
     "metadata": {},
     "output_type": "execute_result"
    }
   ],
   "source": [
    "# collect the dataset from kaggle,which is used to create a good model for classification\n",
    "data = pd.read_csv(\"apple.csv\")    \n",
    "data.head()"
   ]
  },
  {
   "cell_type": "code",
   "execution_count": 3,
   "metadata": {},
   "outputs": [
    {
     "data": {
      "text/plain": [
       "A_id                     3\n",
       "Size             -0.657196\n",
       "Weight            -2.27163\n",
       "Sweetness          1.32487\n",
       "Crunchiness     -0.0978747\n",
       "Juiciness          3.63797\n",
       "Ripeness          -3.41376\n",
       "Acidity        0.790723217\n",
       "Quality               good\n",
       "Name: 3, dtype: object"
      ]
     },
     "execution_count": 3,
     "metadata": {},
     "output_type": "execute_result"
    }
   ],
   "source": [
    "data.iloc[3]"
   ]
  },
  {
   "cell_type": "markdown",
   "metadata": {},
   "source": [
    "## 3. EDA and 4.Pre-processing"
   ]
  },
  {
   "cell_type": "code",
   "execution_count": 4,
   "metadata": {},
   "outputs": [
    {
     "data": {
      "text/plain": [
       "(4001, 9)"
      ]
     },
     "execution_count": 4,
     "metadata": {},
     "output_type": "execute_result"
    }
   ],
   "source": [
    "data.shape   # data set contains 4001 rows and 9 columns"
   ]
  },
  {
   "cell_type": "code",
   "execution_count": 5,
   "metadata": {},
   "outputs": [
    {
     "name": "stdout",
     "output_type": "stream",
     "text": [
      "<class 'pandas.core.frame.DataFrame'>\n",
      "RangeIndex: 4001 entries, 0 to 4000\n",
      "Data columns (total 9 columns):\n",
      "A_id           4000 non-null float64\n",
      "Size           4000 non-null float64\n",
      "Weight         4000 non-null float64\n",
      "Sweetness      4000 non-null float64\n",
      "Crunchiness    4000 non-null float64\n",
      "Juiciness      4000 non-null float64\n",
      "Ripeness       4000 non-null float64\n",
      "Acidity        4001 non-null object\n",
      "Quality        4000 non-null object\n",
      "dtypes: float64(7), object(2)\n",
      "memory usage: 281.4+ KB\n"
     ]
    }
   ],
   "source": [
    "data.info()"
   ]
  },
  {
   "cell_type": "markdown",
   "metadata": {},
   "source": [
    "- This data contains some numerical data and categorical data.\n",
    "- Column ACIDITY  is a numerical column so we can convert obejct to numerical type.\n",
    "- This data contains one missing row.So we can simply remove those row\n"
   ]
  },
  {
   "cell_type": "code",
   "execution_count": 6,
   "metadata": {},
   "outputs": [],
   "source": [
    "data.drop(4000,axis = 0,inplace = True)   # remove missing row,which contain last row in the data set."
   ]
  },
  {
   "cell_type": "code",
   "execution_count": 7,
   "metadata": {},
   "outputs": [],
   "source": [
    "data[\"Acidity\"] = data[\"Acidity\"].astype(\"float\")   # we can convert Acidity type from object to numerical"
   ]
  },
  {
   "cell_type": "code",
   "execution_count": 8,
   "metadata": {},
   "outputs": [
    {
     "name": "stdout",
     "output_type": "stream",
     "text": [
      "<class 'pandas.core.frame.DataFrame'>\n",
      "Int64Index: 4000 entries, 0 to 3999\n",
      "Data columns (total 9 columns):\n",
      "A_id           4000 non-null float64\n",
      "Size           4000 non-null float64\n",
      "Weight         4000 non-null float64\n",
      "Sweetness      4000 non-null float64\n",
      "Crunchiness    4000 non-null float64\n",
      "Juiciness      4000 non-null float64\n",
      "Ripeness       4000 non-null float64\n",
      "Acidity        4000 non-null float64\n",
      "Quality        4000 non-null object\n",
      "dtypes: float64(8), object(1)\n",
      "memory usage: 312.5+ KB\n"
     ]
    }
   ],
   "source": [
    "data.info()"
   ]
  },
  {
   "cell_type": "code",
   "execution_count": 9,
   "metadata": {},
   "outputs": [
    {
     "data": {
      "text/plain": [
       "0"
      ]
     },
     "execution_count": 9,
     "metadata": {},
     "output_type": "execute_result"
    }
   ],
   "source": [
    "data.duplicated().sum()    # there is no duplicated values are here."
   ]
  },
  {
   "cell_type": "code",
   "execution_count": 10,
   "metadata": {},
   "outputs": [
    {
     "data": {
      "text/plain": [
       "good    2004\n",
       "bad     1996\n",
       "Name: Quality, dtype: int64"
      ]
     },
     "execution_count": 10,
     "metadata": {},
     "output_type": "execute_result"
    }
   ],
   "source": [
    "data.Quality.value_counts()  # balanced data"
   ]
  },
  {
   "cell_type": "code",
   "execution_count": 11,
   "metadata": {},
   "outputs": [
    {
     "data": {
      "image/png": "[encoded data removed]",
      "text/plain": [
       "<Figure size 432x288 with 1 Axes>"
      ]
     },
     "metadata": {
      "needs_background": "light"
     },
     "output_type": "display_data"
    }
   ],
   "source": [
    "sns.countplot(data.Quality)\n",
    "plt.show()"
   ]
  },
  {
   "cell_type": "code",
   "execution_count": 12,
   "metadata": {},
   "outputs": [
    {
     "data": {
      "text/html": [
       "<div>\n",
       "<style scoped>\n",
       "    .dataframe tbody tr th:only-of-type {\n",
       "        vertical-align: middle;\n",
       "    }\n",
       "\n",
       "    .dataframe tbody tr th {\n",
       "        vertical-align: top;\n",
       "    }\n",
       "\n",
       "    .dataframe thead th {\n",
       "        text-align: right;\n",
       "    }\n",
       "</style>\n",
       "<table border=\"1\" class=\"dataframe\">\n",
       "  <thead>\n",
       "    <tr style=\"text-align: right;\">\n",
       "      <th></th>\n",
       "      <th>Size</th>\n",
       "      <th>Weight</th>\n",
       "      <th>Sweetness</th>\n",
       "      <th>Crunchiness</th>\n",
       "      <th>Juiciness</th>\n",
       "      <th>Ripeness</th>\n",
       "      <th>Acidity</th>\n",
       "    </tr>\n",
       "  </thead>\n",
       "  <tbody>\n",
       "    <tr>\n",
       "      <td>0</td>\n",
       "      <td>-3.970049</td>\n",
       "      <td>-2.512336</td>\n",
       "      <td>5.346330</td>\n",
       "      <td>-1.012009</td>\n",
       "      <td>1.844900</td>\n",
       "      <td>0.329840</td>\n",
       "      <td>-0.491590</td>\n",
       "    </tr>\n",
       "    <tr>\n",
       "      <td>1</td>\n",
       "      <td>-1.195217</td>\n",
       "      <td>-2.839257</td>\n",
       "      <td>3.664059</td>\n",
       "      <td>1.588232</td>\n",
       "      <td>0.853286</td>\n",
       "      <td>0.867530</td>\n",
       "      <td>-0.722809</td>\n",
       "    </tr>\n",
       "    <tr>\n",
       "      <td>2</td>\n",
       "      <td>-0.292024</td>\n",
       "      <td>-1.351282</td>\n",
       "      <td>-1.738429</td>\n",
       "      <td>-0.342616</td>\n",
       "      <td>2.838636</td>\n",
       "      <td>-0.038033</td>\n",
       "      <td>2.621636</td>\n",
       "    </tr>\n",
       "    <tr>\n",
       "      <td>3</td>\n",
       "      <td>-0.657196</td>\n",
       "      <td>-2.271627</td>\n",
       "      <td>1.324874</td>\n",
       "      <td>-0.097875</td>\n",
       "      <td>3.637970</td>\n",
       "      <td>-3.413761</td>\n",
       "      <td>0.790723</td>\n",
       "    </tr>\n",
       "    <tr>\n",
       "      <td>4</td>\n",
       "      <td>1.364217</td>\n",
       "      <td>-1.296612</td>\n",
       "      <td>-0.384658</td>\n",
       "      <td>-0.553006</td>\n",
       "      <td>3.030874</td>\n",
       "      <td>-1.303849</td>\n",
       "      <td>0.501984</td>\n",
       "    </tr>\n",
       "    <tr>\n",
       "      <td>...</td>\n",
       "      <td>...</td>\n",
       "      <td>...</td>\n",
       "      <td>...</td>\n",
       "      <td>...</td>\n",
       "      <td>...</td>\n",
       "      <td>...</td>\n",
       "      <td>...</td>\n",
       "    </tr>\n",
       "    <tr>\n",
       "      <td>3995</td>\n",
       "      <td>0.059386</td>\n",
       "      <td>-1.067408</td>\n",
       "      <td>-3.714549</td>\n",
       "      <td>0.473052</td>\n",
       "      <td>1.697986</td>\n",
       "      <td>2.244055</td>\n",
       "      <td>0.137784</td>\n",
       "    </tr>\n",
       "    <tr>\n",
       "      <td>3996</td>\n",
       "      <td>-0.293118</td>\n",
       "      <td>1.949253</td>\n",
       "      <td>-0.204020</td>\n",
       "      <td>-0.640196</td>\n",
       "      <td>0.024523</td>\n",
       "      <td>-1.087900</td>\n",
       "      <td>1.854235</td>\n",
       "    </tr>\n",
       "    <tr>\n",
       "      <td>3997</td>\n",
       "      <td>-2.634515</td>\n",
       "      <td>-2.138247</td>\n",
       "      <td>-2.440461</td>\n",
       "      <td>0.657223</td>\n",
       "      <td>2.199709</td>\n",
       "      <td>4.763859</td>\n",
       "      <td>-1.334611</td>\n",
       "    </tr>\n",
       "    <tr>\n",
       "      <td>3998</td>\n",
       "      <td>-4.008004</td>\n",
       "      <td>-1.779337</td>\n",
       "      <td>2.366397</td>\n",
       "      <td>-0.200329</td>\n",
       "      <td>2.161435</td>\n",
       "      <td>0.214488</td>\n",
       "      <td>-2.229720</td>\n",
       "    </tr>\n",
       "    <tr>\n",
       "      <td>3999</td>\n",
       "      <td>0.278540</td>\n",
       "      <td>-1.715505</td>\n",
       "      <td>0.121217</td>\n",
       "      <td>-1.154075</td>\n",
       "      <td>1.266677</td>\n",
       "      <td>-0.776571</td>\n",
       "      <td>1.599796</td>\n",
       "    </tr>\n",
       "  </tbody>\n",
       "</table>\n",
       "<p>4000 rows × 7 columns</p>\n",
       "</div>"
      ],
      "text/plain": [
       "          Size    Weight  Sweetness  Crunchiness  Juiciness  Ripeness  \\\n",
       "0    -3.970049 -2.512336   5.346330    -1.012009   1.844900  0.329840   \n",
       "1    -1.195217 -2.839257   3.664059     1.588232   0.853286  0.867530   \n",
       "2    -0.292024 -1.351282  -1.738429    -0.342616   2.838636 -0.038033   \n",
       "3    -0.657196 -2.271627   1.324874    -0.097875   3.637970 -3.413761   \n",
       "4     1.364217 -1.296612  -0.384658    -0.553006   3.030874 -1.303849   \n",
       "...        ...       ...        ...          ...        ...       ...   \n",
       "3995  0.059386 -1.067408  -3.714549     0.473052   1.697986  2.244055   \n",
       "3996 -0.293118  1.949253  -0.204020    -0.640196   0.024523 -1.087900   \n",
       "3997 -2.634515 -2.138247  -2.440461     0.657223   2.199709  4.763859   \n",
       "3998 -4.008004 -1.779337   2.366397    -0.200329   2.161435  0.214488   \n",
       "3999  0.278540 -1.715505   0.121217    -1.154075   1.266677 -0.776571   \n",
       "\n",
       "       Acidity  \n",
       "0    -0.491590  \n",
       "1    -0.722809  \n",
       "2     2.621636  \n",
       "3     0.790723  \n",
       "4     0.501984  \n",
       "...        ...  \n",
       "3995  0.137784  \n",
       "3996  1.854235  \n",
       "3997 -1.334611  \n",
       "3998 -2.229720  \n",
       "3999  1.599796  \n",
       "\n",
       "[4000 rows x 7 columns]"
      ]
     },
     "execution_count": 12,
     "metadata": {},
     "output_type": "execute_result"
    }
   ],
   "source": [
    "# we don't have any use of A_id column ,so simply remove those column\n",
    "fv = data.iloc[:,1:-1]\n",
    "cv = data.iloc[:,-1]\n",
    "fv"
   ]
  },
  {
   "cell_type": "code",
   "execution_count": 13,
   "metadata": {},
   "outputs": [],
   "source": [
    "# convert good as 0 and bad as 1\n",
    "cv = cv.map({\"good\":0,\"bad\":1})"
   ]
  },
  {
   "cell_type": "code",
   "execution_count": 14,
   "metadata": {},
   "outputs": [
    {
     "data": {
      "text/plain": [
       "0       0\n",
       "1       0\n",
       "2       1\n",
       "3       0\n",
       "4       0\n",
       "       ..\n",
       "3995    1\n",
       "3996    0\n",
       "3997    1\n",
       "3998    0\n",
       "3999    0\n",
       "Name: Quality, Length: 4000, dtype: int64"
      ]
     },
     "execution_count": 14,
     "metadata": {},
     "output_type": "execute_result"
    }
   ],
   "source": [
    "cv"
   ]
  },
  {
   "cell_type": "markdown",
   "metadata": {},
   "source": [
    "## 5.EDA after Pre-processing"
   ]
  },
  {
   "cell_type": "code",
   "execution_count": 15,
   "metadata": {},
   "outputs": [
    {
     "data": {
      "text/html": [
       "<div>\n",
       "<style scoped>\n",
       "    .dataframe tbody tr th:only-of-type {\n",
       "        vertical-align: middle;\n",
       "    }\n",
       "\n",
       "    .dataframe tbody tr th {\n",
       "        vertical-align: top;\n",
       "    }\n",
       "\n",
       "    .dataframe thead th {\n",
       "        text-align: right;\n",
       "    }\n",
       "</style>\n",
       "<table border=\"1\" class=\"dataframe\">\n",
       "  <thead>\n",
       "    <tr style=\"text-align: right;\">\n",
       "      <th></th>\n",
       "      <th>Size</th>\n",
       "      <th>Weight</th>\n",
       "      <th>Sweetness</th>\n",
       "      <th>Crunchiness</th>\n",
       "      <th>Juiciness</th>\n",
       "      <th>Ripeness</th>\n",
       "      <th>Acidity</th>\n",
       "    </tr>\n",
       "  </thead>\n",
       "  <tbody>\n",
       "    <tr>\n",
       "      <td>Size</td>\n",
       "      <td>1.000000</td>\n",
       "      <td>-0.170702</td>\n",
       "      <td>-0.324680</td>\n",
       "      <td>0.169868</td>\n",
       "      <td>-0.018892</td>\n",
       "      <td>-0.134773</td>\n",
       "      <td>0.196218</td>\n",
       "    </tr>\n",
       "    <tr>\n",
       "      <td>Weight</td>\n",
       "      <td>-0.170702</td>\n",
       "      <td>1.000000</td>\n",
       "      <td>-0.154246</td>\n",
       "      <td>-0.095882</td>\n",
       "      <td>-0.092263</td>\n",
       "      <td>-0.243824</td>\n",
       "      <td>0.016414</td>\n",
       "    </tr>\n",
       "    <tr>\n",
       "      <td>Sweetness</td>\n",
       "      <td>-0.324680</td>\n",
       "      <td>-0.154246</td>\n",
       "      <td>1.000000</td>\n",
       "      <td>-0.037552</td>\n",
       "      <td>0.095882</td>\n",
       "      <td>-0.273800</td>\n",
       "      <td>0.085999</td>\n",
       "    </tr>\n",
       "    <tr>\n",
       "      <td>Crunchiness</td>\n",
       "      <td>0.169868</td>\n",
       "      <td>-0.095882</td>\n",
       "      <td>-0.037552</td>\n",
       "      <td>1.000000</td>\n",
       "      <td>-0.259607</td>\n",
       "      <td>-0.201982</td>\n",
       "      <td>0.069943</td>\n",
       "    </tr>\n",
       "    <tr>\n",
       "      <td>Juiciness</td>\n",
       "      <td>-0.018892</td>\n",
       "      <td>-0.092263</td>\n",
       "      <td>0.095882</td>\n",
       "      <td>-0.259607</td>\n",
       "      <td>1.000000</td>\n",
       "      <td>-0.097144</td>\n",
       "      <td>0.248714</td>\n",
       "    </tr>\n",
       "    <tr>\n",
       "      <td>Ripeness</td>\n",
       "      <td>-0.134773</td>\n",
       "      <td>-0.243824</td>\n",
       "      <td>-0.273800</td>\n",
       "      <td>-0.201982</td>\n",
       "      <td>-0.097144</td>\n",
       "      <td>1.000000</td>\n",
       "      <td>-0.202669</td>\n",
       "    </tr>\n",
       "    <tr>\n",
       "      <td>Acidity</td>\n",
       "      <td>0.196218</td>\n",
       "      <td>0.016414</td>\n",
       "      <td>0.085999</td>\n",
       "      <td>0.069943</td>\n",
       "      <td>0.248714</td>\n",
       "      <td>-0.202669</td>\n",
       "      <td>1.000000</td>\n",
       "    </tr>\n",
       "  </tbody>\n",
       "</table>\n",
       "</div>"
      ],
      "text/plain": [
       "                 Size    Weight  Sweetness  Crunchiness  Juiciness  Ripeness  \\\n",
       "Size         1.000000 -0.170702  -0.324680     0.169868  -0.018892 -0.134773   \n",
       "Weight      -0.170702  1.000000  -0.154246    -0.095882  -0.092263 -0.243824   \n",
       "Sweetness   -0.324680 -0.154246   1.000000    -0.037552   0.095882 -0.273800   \n",
       "Crunchiness  0.169868 -0.095882  -0.037552     1.000000  -0.259607 -0.201982   \n",
       "Juiciness   -0.018892 -0.092263   0.095882    -0.259607   1.000000 -0.097144   \n",
       "Ripeness    -0.134773 -0.243824  -0.273800    -0.201982  -0.097144  1.000000   \n",
       "Acidity      0.196218  0.016414   0.085999     0.069943   0.248714 -0.202669   \n",
       "\n",
       "              Acidity  \n",
       "Size         0.196218  \n",
       "Weight       0.016414  \n",
       "Sweetness    0.085999  \n",
       "Crunchiness  0.069943  \n",
       "Juiciness    0.248714  \n",
       "Ripeness    -0.202669  \n",
       "Acidity      1.000000  "
      ]
     },
     "execution_count": 15,
     "metadata": {},
     "output_type": "execute_result"
    }
   ],
   "source": [
    "# Our features are contains numerical data type.\n",
    "cor_mat = fv.corr()\n",
    "cor_mat"
   ]
  },
  {
   "cell_type": "code",
   "execution_count": 16,
   "metadata": {},
   "outputs": [
    {
     "data": {
      "image/png": "[encoded data removed]",
      "text/plain": [
       "<Figure size 432x288 with 2 Axes>"
      ]
     },
     "metadata": {
      "needs_background": "light"
     },
     "output_type": "display_data"
    }
   ],
   "source": [
    "sns.heatmap(cor_mat,annot=True ,cmap='YlGnBu')\n",
    "plt.show()"
   ]
  },
  {
   "cell_type": "markdown",
   "metadata": {},
   "source": [
    "Based on above graph and table, all the features are indipendent only.So we will go with Naive Bayes theroem\n",
    "- our dataset is a numerical data set so we will go with Gaussian distribution.\n",
    "- then check each feature follows gaussian distribution or not"
   ]
  },
  {
   "cell_type": "markdown",
   "metadata": {},
   "source": [
    "##### By using Q-Q plot,I find that those columns are follows Gaussian distribution or Not\n"
   ]
  },
  {
   "cell_type": "code",
   "execution_count": 17,
   "metadata": {},
   "outputs": [
    {
     "data": {
      "image/png": "[encoded data removed]",
      "text/plain": [
       "<Figure size 432x288 with 1 Axes>"
      ]
     },
     "metadata": {
      "needs_background": "light"
     },
     "output_type": "display_data"
    }
   ],
   "source": [
    "import scipy.stats as ss\n",
    "ss.probplot(fv[\"Size\"],dist = \"norm\",fit = True,plot = plt)   # x_train[\"size\"] = observed data , norm = theoritical data\n",
    "plt.show()"
   ]
  },
  {
   "cell_type": "code",
   "execution_count": 18,
   "metadata": {},
   "outputs": [
    {
     "data": {
      "image/png": "[encoded data removed]",
      "text/plain": [
       "<Figure size 432x288 with 1 Axes>"
      ]
     },
     "metadata": {
      "needs_background": "light"
     },
     "output_type": "display_data"
    },
    {
     "data": {
      "image/png": "[encoded data removed]",
      "text/plain": [
       "<Figure size 432x288 with 1 Axes>"
      ]
     },
     "metadata": {
      "needs_background": "light"
     },
     "output_type": "display_data"
    },
    {
     "data": {
      "image/png": "[encoded data removed]",
      "text/plain": [
       "<Figure size 432x288 with 1 Axes>"
      ]
     },
     "metadata": {
      "needs_background": "light"
     },
     "output_type": "display_data"
    },
    {
     "data": {
      "image/png": "[encoded data removed]",
      "text/plain": [
       "<Figure size 432x288 with 1 Axes>"
      ]
     },
     "metadata": {
      "needs_background": "light"
     },
     "output_type": "display_data"
    },
    {
     "data": {
      "image/png": "[encoded data removed]",
      "text/plain": [
       "<Figure size 432x288 with 1 Axes>"
      ]
     },
     "metadata": {
      "needs_background": "light"
     },
     "output_type": "display_data"
    },
    {
     "data": {
      "image/png": "[encoded data removed]",
      "text/plain": [
       "<Figure size 432x288 with 1 Axes>"
      ]
     },
     "metadata": {
      "needs_background": "light"
     },
     "output_type": "display_data"
    },
    {
     "data": {
      "image/png": "[encoded data removed]",
      "text/plain": [
       "<Figure size 432x288 with 1 Axes>"
      ]
     },
     "metadata": {
      "needs_background": "light"
     },
     "output_type": "display_data"
    }
   ],
   "source": [
    "for y in fv.columns:      \n",
    "    ss.probplot(fv[y],dist = \"norm\",fit = True,plot = plt)    \n",
    "    plt.title(y)\n",
    "    plt.show()\n",
    "    "
   ]
  },
  {
   "cell_type": "markdown",
   "metadata": {},
   "source": [
    "Based on above graphs, all the features follows Gaussian distribution,So we performe Gaussian Naive bayes"
   ]
  },
  {
   "cell_type": "code",
   "execution_count": null,
   "metadata": {},
   "outputs": [],
   "source": []
  },
  {
   "cell_type": "markdown",
   "metadata": {},
   "source": [
    "## 6.Feature Engineering"
   ]
  },
  {
   "cell_type": "code",
   "execution_count": 19,
   "metadata": {},
   "outputs": [],
   "source": [
    "# split feature variables and class variables as x_train amd x_test\n",
    "x_train,x_test,y_train,y_test = train_test_split(fv,cv,test_size=0.2,stratify=cv)"
   ]
  },
  {
   "cell_type": "code",
   "execution_count": 20,
   "metadata": {},
   "outputs": [
    {
     "name": "stdout",
     "output_type": "stream",
     "text": [
      "<class 'pandas.core.frame.DataFrame'>\n",
      "Int64Index: 3200 entries, 56 to 3484\n",
      "Data columns (total 7 columns):\n",
      "Size           3200 non-null float64\n",
      "Weight         3200 non-null float64\n",
      "Sweetness      3200 non-null float64\n",
      "Crunchiness    3200 non-null float64\n",
      "Juiciness      3200 non-null float64\n",
      "Ripeness       3200 non-null float64\n",
      "Acidity        3200 non-null float64\n",
      "dtypes: float64(7)\n",
      "memory usage: 200.0 KB\n"
     ]
    }
   ],
   "source": [
    "x_train.info()"
   ]
  },
  {
   "cell_type": "code",
   "execution_count": 21,
   "metadata": {},
   "outputs": [],
   "source": [
    "# split x_train into category wise\n",
    "#my data contains numerical only,so split my data as numerical_data\n",
    "\n",
    "numerical_data = x_train.select_dtypes(include = [\"int64\",\"float64\"])"
   ]
  },
  {
   "cell_type": "code",
   "execution_count": 22,
   "metadata": {},
   "outputs": [],
   "source": [
    "num_pip = Pipeline([(\"imputer\",SimpleImputer()) ,(\"Standardization\",StandardScaler())])"
   ]
  },
  {
   "cell_type": "code",
   "execution_count": 23,
   "metadata": {},
   "outputs": [
    {
     "data": {
      "text/plain": [
       "Index(['Size', 'Weight', 'Sweetness', 'Crunchiness', 'Juiciness', 'Ripeness',\n",
       "       'Acidity'],\n",
       "      dtype='object')"
      ]
     },
     "execution_count": 23,
     "metadata": {},
     "output_type": "execute_result"
    }
   ],
   "source": [
    "numerical_data.columns"
   ]
  },
  {
   "cell_type": "code",
   "execution_count": 24,
   "metadata": {},
   "outputs": [],
   "source": [
    "ctp = ColumnTransformer([(\"numerical\",num_pip,numerical_data.columns)],remainder = \"passthrough\")"
   ]
  },
  {
   "cell_type": "code",
   "execution_count": 25,
   "metadata": {},
   "outputs": [
    {
     "data": {
      "text/html": [
       "<div>\n",
       "<style scoped>\n",
       "    .dataframe tbody tr th:only-of-type {\n",
       "        vertical-align: middle;\n",
       "    }\n",
       "\n",
       "    .dataframe tbody tr th {\n",
       "        vertical-align: top;\n",
       "    }\n",
       "\n",
       "    .dataframe thead th {\n",
       "        text-align: right;\n",
       "    }\n",
       "</style>\n",
       "<table border=\"1\" class=\"dataframe\">\n",
       "  <thead>\n",
       "    <tr style=\"text-align: right;\">\n",
       "      <th></th>\n",
       "      <th>Size</th>\n",
       "      <th>Weight</th>\n",
       "      <th>Sweetness</th>\n",
       "      <th>Crunchiness</th>\n",
       "      <th>Juiciness</th>\n",
       "      <th>Ripeness</th>\n",
       "      <th>Acidity</th>\n",
       "    </tr>\n",
       "  </thead>\n",
       "  <tbody>\n",
       "    <tr>\n",
       "      <td>0</td>\n",
       "      <td>1.214168</td>\n",
       "      <td>0.283869</td>\n",
       "      <td>0.048753</td>\n",
       "      <td>-0.528640</td>\n",
       "      <td>-0.677039</td>\n",
       "      <td>0.861514</td>\n",
       "      <td>-1.597987</td>\n",
       "    </tr>\n",
       "    <tr>\n",
       "      <td>1</td>\n",
       "      <td>-2.344181</td>\n",
       "      <td>-1.816712</td>\n",
       "      <td>0.538941</td>\n",
       "      <td>-0.619930</td>\n",
       "      <td>1.127213</td>\n",
       "      <td>1.197396</td>\n",
       "      <td>2.649759</td>\n",
       "    </tr>\n",
       "    <tr>\n",
       "      <td>2</td>\n",
       "      <td>1.323675</td>\n",
       "      <td>0.324580</td>\n",
       "      <td>-2.209065</td>\n",
       "      <td>-0.167630</td>\n",
       "      <td>0.818971</td>\n",
       "      <td>1.355283</td>\n",
       "      <td>-0.399645</td>\n",
       "    </tr>\n",
       "    <tr>\n",
       "      <td>3</td>\n",
       "      <td>0.107170</td>\n",
       "      <td>-1.228358</td>\n",
       "      <td>0.058610</td>\n",
       "      <td>0.102957</td>\n",
       "      <td>0.270633</td>\n",
       "      <td>-0.938269</td>\n",
       "      <td>1.162644</td>\n",
       "    </tr>\n",
       "    <tr>\n",
       "      <td>4</td>\n",
       "      <td>0.903637</td>\n",
       "      <td>-0.011459</td>\n",
       "      <td>-0.446214</td>\n",
       "      <td>1.458389</td>\n",
       "      <td>-1.570015</td>\n",
       "      <td>-1.243917</td>\n",
       "      <td>-0.401871</td>\n",
       "    </tr>\n",
       "    <tr>\n",
       "      <td>...</td>\n",
       "      <td>...</td>\n",
       "      <td>...</td>\n",
       "      <td>...</td>\n",
       "      <td>...</td>\n",
       "      <td>...</td>\n",
       "      <td>...</td>\n",
       "      <td>...</td>\n",
       "    </tr>\n",
       "    <tr>\n",
       "      <td>3195</td>\n",
       "      <td>1.770326</td>\n",
       "      <td>-1.996984</td>\n",
       "      <td>-1.335395</td>\n",
       "      <td>-0.385899</td>\n",
       "      <td>2.091093</td>\n",
       "      <td>0.050873</td>\n",
       "      <td>0.352606</td>\n",
       "    </tr>\n",
       "    <tr>\n",
       "      <td>3196</td>\n",
       "      <td>0.452830</td>\n",
       "      <td>-0.393251</td>\n",
       "      <td>0.534435</td>\n",
       "      <td>0.524684</td>\n",
       "      <td>0.341773</td>\n",
       "      <td>-1.401094</td>\n",
       "      <td>1.585150</td>\n",
       "    </tr>\n",
       "    <tr>\n",
       "      <td>3197</td>\n",
       "      <td>0.218241</td>\n",
       "      <td>-0.450986</td>\n",
       "      <td>0.931320</td>\n",
       "      <td>-0.520476</td>\n",
       "      <td>0.778019</td>\n",
       "      <td>0.280449</td>\n",
       "      <td>-1.620184</td>\n",
       "    </tr>\n",
       "    <tr>\n",
       "      <td>3198</td>\n",
       "      <td>0.967573</td>\n",
       "      <td>-0.632267</td>\n",
       "      <td>-1.101400</td>\n",
       "      <td>1.051642</td>\n",
       "      <td>0.931003</td>\n",
       "      <td>-0.681130</td>\n",
       "      <td>0.420932</td>\n",
       "    </tr>\n",
       "    <tr>\n",
       "      <td>3199</td>\n",
       "      <td>2.922722</td>\n",
       "      <td>0.709877</td>\n",
       "      <td>-1.195534</td>\n",
       "      <td>0.697549</td>\n",
       "      <td>-0.971081</td>\n",
       "      <td>0.656908</td>\n",
       "      <td>-0.222340</td>\n",
       "    </tr>\n",
       "  </tbody>\n",
       "</table>\n",
       "<p>3200 rows × 7 columns</p>\n",
       "</div>"
      ],
      "text/plain": [
       "          Size    Weight  Sweetness  Crunchiness  Juiciness  Ripeness  \\\n",
       "0     1.214168  0.283869   0.048753    -0.528640  -0.677039  0.861514   \n",
       "1    -2.344181 -1.816712   0.538941    -0.619930   1.127213  1.197396   \n",
       "2     1.323675  0.324580  -2.209065    -0.167630   0.818971  1.355283   \n",
       "3     0.107170 -1.228358   0.058610     0.102957   0.270633 -0.938269   \n",
       "4     0.903637 -0.011459  -0.446214     1.458389  -1.570015 -1.243917   \n",
       "...        ...       ...        ...          ...        ...       ...   \n",
       "3195  1.770326 -1.996984  -1.335395    -0.385899   2.091093  0.050873   \n",
       "3196  0.452830 -0.393251   0.534435     0.524684   0.341773 -1.401094   \n",
       "3197  0.218241 -0.450986   0.931320    -0.520476   0.778019  0.280449   \n",
       "3198  0.967573 -0.632267  -1.101400     1.051642   0.931003 -0.681130   \n",
       "3199  2.922722  0.709877  -1.195534     0.697549  -0.971081  0.656908   \n",
       "\n",
       "       Acidity  \n",
       "0    -1.597987  \n",
       "1     2.649759  \n",
       "2    -0.399645  \n",
       "3     1.162644  \n",
       "4    -0.401871  \n",
       "...        ...  \n",
       "3195  0.352606  \n",
       "3196  1.585150  \n",
       "3197 -1.620184  \n",
       "3198  0.420932  \n",
       "3199 -0.222340  \n",
       "\n",
       "[3200 rows x 7 columns]"
      ]
     },
     "execution_count": 25,
     "metadata": {},
     "output_type": "execute_result"
    }
   ],
   "source": [
    "pd.DataFrame(ctp.fit_transform(x_train),columns=x_train.columns)"
   ]
  },
  {
   "cell_type": "code",
   "execution_count": 26,
   "metadata": {},
   "outputs": [],
   "source": [
    "final_pre=Pipeline([(\"Pre-Processing\",ctp)])"
   ]
  },
  {
   "cell_type": "code",
   "execution_count": 27,
   "metadata": {},
   "outputs": [],
   "source": [
    "import pickle\n",
    "pickle.dump(final_pre,open(r\"C:\\Users\\LAKSHMI NARASIMHARAO\\innomatics\\Machine Learning\\pickles\\apple quality\\final_pre.pkl\",\"wb\"))"
   ]
  },
  {
   "cell_type": "code",
   "execution_count": null,
   "metadata": {},
   "outputs": [],
   "source": []
  },
  {
   "cell_type": "markdown",
   "metadata": {},
   "source": [
    "## 7.Training"
   ]
  },
  {
   "cell_type": "code",
   "execution_count": 28,
   "metadata": {},
   "outputs": [],
   "source": [
    "# x_train follows gaussian distribution so i can use GaussianNB"
   ]
  },
  {
   "cell_type": "code",
   "execution_count": 29,
   "metadata": {},
   "outputs": [],
   "source": [
    "# create an object of GaussianNB class\n",
    "g = GaussianNB()\n",
    "\n",
    "# fit x_train and y_train based on gaussian NB \n",
    "model = g.fit(final_pre.fit_transform(x_train),y_train)"
   ]
  },
  {
   "cell_type": "code",
   "execution_count": 30,
   "metadata": {},
   "outputs": [],
   "source": [
    "import pickle\n",
    "pickle.dump(model,open(r\"C:\\Users\\LAKSHMI NARASIMHARAO\\innomatics\\Machine Learning\\pickles\\apple quality\\model.pkl\",\"wb\"))"
   ]
  },
  {
   "cell_type": "markdown",
   "metadata": {},
   "source": [
    "then finally we create a model for the Gaussian Naive bayes"
   ]
  },
  {
   "cell_type": "markdown",
   "metadata": {},
   "source": [
    "## 8. Model Evalution"
   ]
  },
  {
   "cell_type": "code",
   "execution_count": 31,
   "metadata": {},
   "outputs": [],
   "source": [
    "from sklearn.metrics import confusion_matrix,classification_report"
   ]
  },
  {
   "cell_type": "code",
   "execution_count": 32,
   "metadata": {},
   "outputs": [
    {
     "data": {
      "text/plain": [
       "array([[304,  97],\n",
       "       [106, 293]], dtype=int64)"
      ]
     },
     "execution_count": 32,
     "metadata": {},
     "output_type": "execute_result"
    }
   ],
   "source": [
    "confusion_matrix(y_test,model.predict(final_pre.transform(x_test)))"
   ]
  },
  {
   "cell_type": "code",
   "execution_count": 33,
   "metadata": {},
   "outputs": [
    {
     "name": "stdout",
     "output_type": "stream",
     "text": [
      "              precision    recall  f1-score   support\n",
      "\n",
      "           0       0.74      0.76      0.75       401\n",
      "           1       0.75      0.73      0.74       399\n",
      "\n",
      "    accuracy                           0.75       800\n",
      "   macro avg       0.75      0.75      0.75       800\n",
      "weighted avg       0.75      0.75      0.75       800\n",
      "\n"
     ]
    }
   ],
   "source": [
    "print(classification_report(y_test,model.predict(final_pre.transform(x_test))))"
   ]
  },
  {
   "cell_type": "markdown",
   "metadata": {},
   "source": [
    "It will give the accuracy rate of 76%"
   ]
  },
  {
   "cell_type": "markdown",
   "metadata": {},
   "source": [
    "## 9.Testing"
   ]
  },
  {
   "cell_type": "code",
   "execution_count": 34,
   "metadata": {},
   "outputs": [
    {
     "name": "stdout",
     "output_type": "stream",
     "text": [
      "good\n"
     ]
    }
   ],
   "source": [
    "m = final_pre.transform(x_test.iloc[[2]])\n",
    "pred = model.predict(m)   # it is used to shows that predicted value \n",
    "\n",
    "if pred == 0:\n",
    "    print(\"good\")\n",
    "else:\n",
    "    print(\"bad\")"
   ]
  },
  {
   "cell_type": "markdown",
   "metadata": {},
   "source": [
    "i will give a query point from x_test as input to the model,then it will returns class label(good / bad)"
   ]
  },
  {
   "cell_type": "code",
   "execution_count": null,
   "metadata": {},
   "outputs": [],
   "source": []
  },
  {
   "cell_type": "markdown",
   "metadata": {},
   "source": [
    "## 10. Conclusion"
   ]
  },
  {
   "cell_type": "markdown",
   "metadata": {},
   "source": [
    "In conclusion, the testing results demonstrate the effectiveness and reliability of the predictive model in assessing the quality of apples. With its accurate predictions and robust performance, the model holds promise for enhancing quality control processes in apple production and ensuring consumer satisfaction.\n",
    "\n",
    "\n",
    "\n",
    "\n"
   ]
  }
 ],
 "metadata": {
  "kernelspec": {
   "display_name": "Python 3",
   "language": "python",
   "name": "python3"
  },
  "language_info": {
   "codemirror_mode": {
    "name": "ipython",
    "version": 3
   },
   "file_extension": ".py",
   "mimetype": "text/x-python",
   "name": "python",
   "nbconvert_exporter": "python",
   "pygments_lexer": "ipython3",
   "version": "3.7.4"
  }
 },
 "nbformat": 4,
 "nbformat_minor": 2
}
